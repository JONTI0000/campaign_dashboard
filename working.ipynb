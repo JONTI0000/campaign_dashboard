{
 "cells": [
  {
   "cell_type": "code",
   "execution_count": 231,
   "metadata": {},
   "outputs": [],
   "source": [
    "import streamlit as st\n",
    "import pandas as pd\n",
    "import numpy as np\n",
    "from streamlit_extras.metric_cards import style_metric_cards\n",
    "import datetime\n",
    "import matplotlib.pyplot as plt\n",
    "import re"
   ]
  },
  {
   "cell_type": "code",
   "execution_count": 232,
   "metadata": {},
   "outputs": [],
   "source": [
    "df = pd.read_excel('scores.xlsx')"
   ]
  },
  {
   "cell_type": "code",
   "execution_count": 233,
   "metadata": {},
   "outputs": [
    {
     "name": "stdout",
     "output_type": "stream",
     "text": [
      "as\n",
      "as\n"
     ]
    }
   ],
   "source": [
    "for column in df.columns:\n",
    "    if df[column].dtype==object:\n",
    "        print(\"as\")\n"
   ]
  },
  {
   "cell_type": "code",
   "execution_count": 234,
   "metadata": {},
   "outputs": [],
   "source": [
    "link = re.sub(r'/edit\\?usp=(sharing|drivesdk)$', '/export?format=xlsx', \"https://docs.google.com/spreadsheets/d/1QF8HDNv9WUlWLiTavevS_m8k7hElTvDyDvXCX1OIhxk/edit?usp=sharing\")\n",
    "df = pd.read_excel(link,\"Email Tracker\")"
   ]
  },
  {
   "cell_type": "code",
   "execution_count": 235,
   "metadata": {},
   "outputs": [
    {
     "data": {
      "text/plain": [
       "0      2024-06-05\n",
       "1             NaT\n",
       "2      2024-06-05\n",
       "3      2024-06-05\n",
       "4      2024-06-05\n",
       "          ...    \n",
       "2648          NaT\n",
       "2649          NaT\n",
       "2650          NaT\n",
       "2651          NaT\n",
       "2652          NaT\n",
       "Name: Sent Date-step 03, Length: 2653, dtype: datetime64[ns]"
      ]
     },
     "execution_count": 235,
     "metadata": {},
     "output_type": "execute_result"
    }
   ],
   "source": [
    "df['Sent Date-step 03'] = df['Sent Date-step 03'].replace('', np.nan)\n",
    "# Define a function to parse dates\n",
    "def parse_date(date_str):\n",
    "    if pd.isna(date_str):\n",
    "        return pd.NaT  # Return NaT for NaN values\n",
    "    else:\n",
    "        parts = date_str.split('/')  # Split by '/'\n",
    "        if len(parts) == 3:\n",
    "            return pd.to_datetime(f'{parts[1]}/{parts[0]}/{parts[2]}', format='%m/%d/%Y', errors='coerce')\n",
    "        else:\n",
    "            return pd.NaT  # Return NaT for invalid formats\n",
    "        \n",
    "df['Sent Date-step 03'] = pd.to_datetime(df['Sent Date-step 03'], dayfirst=True, errors='coerce')\n",
    "df[\"Sent Date-step 03\"]"
   ]
  },
  {
   "cell_type": "code",
   "execution_count": 236,
   "metadata": {},
   "outputs": [],
   "source": [
    "#converting to lower and removing empty spaces\n",
    "df[\"Name\"] = df[\"Name\"].str.lower().str.strip()\n",
    "df[\"Business Address\"] = df[\"Business Address\"].str.lower().str.strip()  \n",
    "df['Current Step'] = pd.to_numeric(df['Current Step'], errors='coerce')\n",
    "# Calculate time difference\n",
    "# Convert date columns to datetime format\n",
    "df[\"Sent Date-step-03\"] = pd.to_datetime(df[\"Sent Time-step-03\"], errors='coerce')\n",
    "date_cols = ['Acquired date', 'Sent Date-step 01', 'Sent Date-step 02','Sent Date-step 04']\n",
    "for col in date_cols:\n",
    "    df[col] = pd.to_datetime(df[col], errors='coerce',dayfirst=True)\n",
    "df['Sent Time-step-01'] = pd.to_datetime(df['Sent Time-step-01'], format='%H:%M:%S',errors='coerce').dt.time\n",
    "df['Sent Time-step-02'] = pd.to_datetime(df['Sent Time-step-02'], format='%H:%M:%S',errors='coerce').dt.time\n",
    "df['Sent Time-step-03'] = pd.to_datetime(df['Sent Time-step-03'], format='%H:%M:%S',errors='coerce').dt.time\n",
    "df['Sent Time-step-04'] = pd.to_datetime(df['Sent Time-step-04'], format='%H:%M:%S',errors='coerce').dt.time"
   ]
  },
  {
   "cell_type": "code",
   "execution_count": 237,
   "metadata": {},
   "outputs": [
    {
     "data": {
      "text/html": [
       "<div>\n",
       "<style scoped>\n",
       "    .dataframe tbody tr th:only-of-type {\n",
       "        vertical-align: middle;\n",
       "    }\n",
       "\n",
       "    .dataframe tbody tr th {\n",
       "        vertical-align: top;\n",
       "    }\n",
       "\n",
       "    .dataframe thead th {\n",
       "        text-align: right;\n",
       "    }\n",
       "</style>\n",
       "<table border=\"1\" class=\"dataframe\">\n",
       "  <thead>\n",
       "    <tr style=\"text-align: right;\">\n",
       "      <th></th>\n",
       "      <th>Area</th>\n",
       "      <th>Name</th>\n",
       "      <th>Business Address</th>\n",
       "      <th>Segment</th>\n",
       "      <th>Business Type</th>\n",
       "      <th>Website</th>\n",
       "      <th>Phone No</th>\n",
       "      <th>Facebook</th>\n",
       "      <th>Instragram</th>\n",
       "      <th>Email</th>\n",
       "      <th>...</th>\n",
       "      <th>Current Step</th>\n",
       "      <th>Sent Date-step 01</th>\n",
       "      <th>Sent Time-step-01</th>\n",
       "      <th>Sent Date-step 02</th>\n",
       "      <th>Sent Time-step-02</th>\n",
       "      <th>Sent Date-step 03</th>\n",
       "      <th>Sent Time-step-03</th>\n",
       "      <th>Sent Date-step 04</th>\n",
       "      <th>Sent Time-step-04</th>\n",
       "      <th>Sent Date-step-03</th>\n",
       "    </tr>\n",
       "  </thead>\n",
       "  <tbody>\n",
       "    <tr>\n",
       "      <th>0</th>\n",
       "      <td>Builth Wells and Llanelwedd</td>\n",
       "      <td>the drovers cafe &amp; restaurant</td>\n",
       "      <td>34-36 high st, builth wells, ld2 3dl, united k...</td>\n",
       "      <td>Food &amp; Drink</td>\n",
       "      <td>NaN</td>\n",
       "      <td>undefined</td>\n",
       "      <td>+44 7852 635935</td>\n",
       "      <td>The Drovers Cafe &amp; restaurant - Builth Wells |...</td>\n",
       "      <td>NaN</td>\n",
       "      <td>neilprice6@hotmail.com</td>\n",
       "      <td>...</td>\n",
       "      <td>4.0</td>\n",
       "      <td>2024-05-28</td>\n",
       "      <td>10:40:45</td>\n",
       "      <td>2024-05-30</td>\n",
       "      <td>09:39:15</td>\n",
       "      <td>2024-06-05</td>\n",
       "      <td>09:00:05</td>\n",
       "      <td>2024-06-13</td>\n",
       "      <td>09:30:07</td>\n",
       "      <td>NaT</td>\n",
       "    </tr>\n",
       "    <tr>\n",
       "      <th>1</th>\n",
       "      <td>Builth Wells and Llanelwedd</td>\n",
       "      <td>cosy corner bistro</td>\n",
       "      <td>55 high st, builth wells, ld2 3ab, united kingdom</td>\n",
       "      <td>Food &amp; Drink</td>\n",
       "      <td>Food &amp; Drink</td>\n",
       "      <td>https://www.facebook.com/cosycornerbistro</td>\n",
       "      <td>+44 1982 448469</td>\n",
       "      <td>https://www.facebook.com/cosycornerbistro/</td>\n",
       "      <td>https://www.instagram.com/cosycornerbistro?utm...</td>\n",
       "      <td>cosycornerbistro@gmail.com</td>\n",
       "      <td>...</td>\n",
       "      <td>1.0</td>\n",
       "      <td>2024-05-28</td>\n",
       "      <td>10:42:13</td>\n",
       "      <td>NaT</td>\n",
       "      <td>NaT</td>\n",
       "      <td>NaT</td>\n",
       "      <td>NaT</td>\n",
       "      <td>NaT</td>\n",
       "      <td>NaT</td>\n",
       "      <td>NaT</td>\n",
       "    </tr>\n",
       "    <tr>\n",
       "      <th>2</th>\n",
       "      <td>Builth Wells and Llanelwedd</td>\n",
       "      <td>the fountain inn</td>\n",
       "      <td>7-9 broad st, builth wells, ld2 3dt, united ki...</td>\n",
       "      <td>Food &amp; Drink</td>\n",
       "      <td>NaN</td>\n",
       "      <td>https://www.fountaininnbuilthwells.co.uk/</td>\n",
       "      <td>+44 1982 553888</td>\n",
       "      <td>The Fountain Inn - Builth Wells | Builth Wells...</td>\n",
       "      <td>NaN</td>\n",
       "      <td>info@penmaenaubars.co.uk</td>\n",
       "      <td>...</td>\n",
       "      <td>4.0</td>\n",
       "      <td>2024-05-28</td>\n",
       "      <td>10:43:33</td>\n",
       "      <td>2024-05-30</td>\n",
       "      <td>09:40:22</td>\n",
       "      <td>2024-06-05</td>\n",
       "      <td>09:01:07</td>\n",
       "      <td>2024-06-13</td>\n",
       "      <td>09:31:21</td>\n",
       "      <td>NaT</td>\n",
       "    </tr>\n",
       "    <tr>\n",
       "      <th>3</th>\n",
       "      <td>Builth Wells and Llanelwedd</td>\n",
       "      <td>the lamb</td>\n",
       "      <td>12 broad st, builth wells, ld2 3dt, united kin...</td>\n",
       "      <td>Food &amp; Drink</td>\n",
       "      <td>NaN</td>\n",
       "      <td>https://lambinnbuilthwells.co.uk/</td>\n",
       "      <td>+44 1982 551119</td>\n",
       "      <td>The Lamb | Facebook</td>\n",
       "      <td>NaN</td>\n",
       "      <td>thelambbuilth@gmail.com</td>\n",
       "      <td>...</td>\n",
       "      <td>4.0</td>\n",
       "      <td>2024-05-28</td>\n",
       "      <td>10:44:33</td>\n",
       "      <td>2024-05-30</td>\n",
       "      <td>10:02:25</td>\n",
       "      <td>2024-06-05</td>\n",
       "      <td>09:02:18</td>\n",
       "      <td>2024-06-13</td>\n",
       "      <td>09:32:32</td>\n",
       "      <td>NaT</td>\n",
       "    </tr>\n",
       "    <tr>\n",
       "      <th>4</th>\n",
       "      <td>Builth Wells and Llanelwedd</td>\n",
       "      <td>the white horse</td>\n",
       "      <td>13 high st, builth wells, ld2 3dn, united kingdom</td>\n",
       "      <td>Food &amp; Drink</td>\n",
       "      <td>NaN</td>\n",
       "      <td>http://www.thewhitehorsebuilthwells.co.uk/</td>\n",
       "      <td>+44 1982 553171</td>\n",
       "      <td>The White Horse | Builth Wells | Facebook</td>\n",
       "      <td>https://www.instagram.com/thewhitehorsebuilthw...</td>\n",
       "      <td>info@thewhitehorsebuilthwells.co.uk</td>\n",
       "      <td>...</td>\n",
       "      <td>4.0</td>\n",
       "      <td>2024-05-28</td>\n",
       "      <td>10:45:49</td>\n",
       "      <td>2024-05-30</td>\n",
       "      <td>10:03:43</td>\n",
       "      <td>2024-06-05</td>\n",
       "      <td>09:03:38</td>\n",
       "      <td>2024-06-13</td>\n",
       "      <td>09:33:36</td>\n",
       "      <td>NaT</td>\n",
       "    </tr>\n",
       "    <tr>\n",
       "      <th>5</th>\n",
       "      <td>Builth Wells and Llanelwedd</td>\n",
       "      <td>the white horse</td>\n",
       "      <td>13 high st, builth wells, ld2 3dn, united kingdom</td>\n",
       "      <td>Food &amp; Drink</td>\n",
       "      <td>NaN</td>\n",
       "      <td>http://www.thewhitehorsebuilthwells.co.uk/</td>\n",
       "      <td>+44 1982 553171</td>\n",
       "      <td>The White Horse | Builth Wells | Facebook</td>\n",
       "      <td>https://www.instagram.com/thewhitehorsebuilthw...</td>\n",
       "      <td>rory-owen@hotmail.co.uk</td>\n",
       "      <td>...</td>\n",
       "      <td>4.0</td>\n",
       "      <td>2024-05-28</td>\n",
       "      <td>10:47:15</td>\n",
       "      <td>2024-05-30</td>\n",
       "      <td>10:04:47</td>\n",
       "      <td>2024-06-05</td>\n",
       "      <td>09:05:04</td>\n",
       "      <td>2024-06-13</td>\n",
       "      <td>09:34:36</td>\n",
       "      <td>NaT</td>\n",
       "    </tr>\n",
       "    <tr>\n",
       "      <th>6</th>\n",
       "      <td>Builth Wells and Llanelwedd</td>\n",
       "      <td>the barley mow public house</td>\n",
       "      <td>barley mow hotel, 1 west st, builth wells ld2 ...</td>\n",
       "      <td>Food &amp; Drink</td>\n",
       "      <td>NaN</td>\n",
       "      <td>http://thebarleymowbuilth.co.uk/</td>\n",
       "      <td>+44 1982 553198</td>\n",
       "      <td>Barley Mow Builth | Builth Wells | Facebook</td>\n",
       "      <td>https://www.instagram.com/the_barleymow_?utm_s...</td>\n",
       "      <td>barleymowbuilth@gmail.com</td>\n",
       "      <td>...</td>\n",
       "      <td>3.0</td>\n",
       "      <td>2024-05-28</td>\n",
       "      <td>10:48:26</td>\n",
       "      <td>2024-05-30</td>\n",
       "      <td>10:06:13</td>\n",
       "      <td>2024-06-05</td>\n",
       "      <td>09:06:06</td>\n",
       "      <td>NaT</td>\n",
       "      <td>NaT</td>\n",
       "      <td>NaT</td>\n",
       "    </tr>\n",
       "  </tbody>\n",
       "</table>\n",
       "<p>7 rows × 24 columns</p>\n",
       "</div>"
      ],
      "text/plain": [
       "                          Area                           Name  \\\n",
       "0  Builth Wells and Llanelwedd  the drovers cafe & restaurant   \n",
       "1  Builth Wells and Llanelwedd             cosy corner bistro   \n",
       "2  Builth Wells and Llanelwedd               the fountain inn   \n",
       "3  Builth Wells and Llanelwedd                       the lamb   \n",
       "4  Builth Wells and Llanelwedd                the white horse   \n",
       "5  Builth Wells and Llanelwedd                the white horse   \n",
       "6  Builth Wells and Llanelwedd    the barley mow public house   \n",
       "\n",
       "                                    Business Address       Segment  \\\n",
       "0  34-36 high st, builth wells, ld2 3dl, united k...  Food & Drink   \n",
       "1  55 high st, builth wells, ld2 3ab, united kingdom  Food & Drink   \n",
       "2  7-9 broad st, builth wells, ld2 3dt, united ki...  Food & Drink   \n",
       "3  12 broad st, builth wells, ld2 3dt, united kin...  Food & Drink   \n",
       "4  13 high st, builth wells, ld2 3dn, united kingdom  Food & Drink   \n",
       "5  13 high st, builth wells, ld2 3dn, united kingdom  Food & Drink   \n",
       "6  barley mow hotel, 1 west st, builth wells ld2 ...  Food & Drink   \n",
       "\n",
       "  Business Type                                     Website  \\\n",
       "0           NaN                                   undefined   \n",
       "1  Food & Drink   https://www.facebook.com/cosycornerbistro   \n",
       "2           NaN   https://www.fountaininnbuilthwells.co.uk/   \n",
       "3           NaN           https://lambinnbuilthwells.co.uk/   \n",
       "4           NaN  http://www.thewhitehorsebuilthwells.co.uk/   \n",
       "5           NaN  http://www.thewhitehorsebuilthwells.co.uk/   \n",
       "6           NaN            http://thebarleymowbuilth.co.uk/   \n",
       "\n",
       "            Phone No                                           Facebook  \\\n",
       "0    +44 7852 635935  The Drovers Cafe & restaurant - Builth Wells |...   \n",
       "1    +44 1982 448469         https://www.facebook.com/cosycornerbistro/   \n",
       "2    +44 1982 553888  The Fountain Inn - Builth Wells | Builth Wells...   \n",
       "3    +44 1982 551119                                The Lamb | Facebook   \n",
       "4    +44 1982 553171          The White Horse | Builth Wells | Facebook   \n",
       "5    +44 1982 553171          The White Horse | Builth Wells | Facebook   \n",
       "6    +44 1982 553198        Barley Mow Builth | Builth Wells | Facebook   \n",
       "\n",
       "                                          Instragram  \\\n",
       "0                                                NaN   \n",
       "1  https://www.instagram.com/cosycornerbistro?utm...   \n",
       "2                                                NaN   \n",
       "3                                                NaN   \n",
       "4  https://www.instagram.com/thewhitehorsebuilthw...   \n",
       "5  https://www.instagram.com/thewhitehorsebuilthw...   \n",
       "6  https://www.instagram.com/the_barleymow_?utm_s...   \n",
       "\n",
       "                                 Email  ... Current Step Sent Date-step 01  \\\n",
       "0               neilprice6@hotmail.com  ...          4.0        2024-05-28   \n",
       "1           cosycornerbistro@gmail.com  ...          1.0        2024-05-28   \n",
       "2             info@penmaenaubars.co.uk  ...          4.0        2024-05-28   \n",
       "3              thelambbuilth@gmail.com  ...          4.0        2024-05-28   \n",
       "4  info@thewhitehorsebuilthwells.co.uk  ...          4.0        2024-05-28   \n",
       "5              rory-owen@hotmail.co.uk  ...          4.0        2024-05-28   \n",
       "6            barleymowbuilth@gmail.com  ...          3.0        2024-05-28   \n",
       "\n",
       "  Sent Time-step-01 Sent Date-step 02  Sent Time-step-02 Sent Date-step 03  \\\n",
       "0          10:40:45        2024-05-30           09:39:15        2024-06-05   \n",
       "1          10:42:13               NaT                NaT               NaT   \n",
       "2          10:43:33        2024-05-30           09:40:22        2024-06-05   \n",
       "3          10:44:33        2024-05-30           10:02:25        2024-06-05   \n",
       "4          10:45:49        2024-05-30           10:03:43        2024-06-05   \n",
       "5          10:47:15        2024-05-30           10:04:47        2024-06-05   \n",
       "6          10:48:26        2024-05-30           10:06:13        2024-06-05   \n",
       "\n",
       "  Sent Time-step-03 Sent Date-step 04 Sent Time-step-04 Sent Date-step-03  \n",
       "0          09:00:05        2024-06-13          09:30:07               NaT  \n",
       "1               NaT               NaT               NaT               NaT  \n",
       "2          09:01:07        2024-06-13          09:31:21               NaT  \n",
       "3          09:02:18        2024-06-13          09:32:32               NaT  \n",
       "4          09:03:38        2024-06-13          09:33:36               NaT  \n",
       "5          09:05:04        2024-06-13          09:34:36               NaT  \n",
       "6          09:06:06               NaT               NaT               NaT  \n",
       "\n",
       "[7 rows x 24 columns]"
      ]
     },
     "execution_count": 237,
     "metadata": {},
     "output_type": "execute_result"
    }
   ],
   "source": [
    "df.head(7)"
   ]
  },
  {
   "cell_type": "code",
   "execution_count": 238,
   "metadata": {},
   "outputs": [
    {
     "data": {
      "text/plain": [
       "Index(['Area', 'Name', 'Business Address', 'Segment', 'Business Type',\n",
       "       'Website', 'Phone No', 'Facebook', 'Instragram', 'Email', 'Batch No',\n",
       "       'Email used', 'Reply status', 'Acquired date', 'Current Step',\n",
       "       'Sent Date-step 01', 'Sent Time-step-01', 'Sent Date-step 02',\n",
       "       'Sent Time-step-02', 'Sent Date-step 03', 'Sent Time-step-03',\n",
       "       'Sent Date-step 04', 'Sent Time-step-04', 'Sent Date-step-03'],\n",
       "      dtype='object')"
      ]
     },
     "execution_count": 238,
     "metadata": {},
     "output_type": "execute_result"
    }
   ],
   "source": [
    "df.columns"
   ]
  },
  {
   "cell_type": "code",
   "execution_count": 239,
   "metadata": {},
   "outputs": [],
   "source": [
    "leads = df.groupby('Batch No').size().reset_index(name='Leads in a Batch')"
   ]
  },
  {
   "cell_type": "code",
   "execution_count": 240,
   "metadata": {},
   "outputs": [],
   "source": [
    "bounced = df[df['Reply status'] == \"Bounced\"].groupby('Batch No').size().reset_index(name='Emails Bounced')"
   ]
  },
  {
   "cell_type": "code",
   "execution_count": 241,
   "metadata": {},
   "outputs": [],
   "source": [
    "email_sent = df.groupby('Batch No')['Current Step'].sum().reset_index(name='Emails Sent')"
   ]
  },
  {
   "cell_type": "code",
   "execution_count": 242,
   "metadata": {},
   "outputs": [],
   "source": [
    "auto_reply = df[df['Reply status'] == \"Auto Reply\"].groupby('Batch No').size().reset_index(name='Emails Auto reply')"
   ]
  },
  {
   "cell_type": "code",
   "execution_count": 243,
   "metadata": {},
   "outputs": [],
   "source": [
    "qualified  = df[(df['Reply status'] == \"Yes\") | (df['Reply status'] == 'Filled form')].groupby('Batch No').size().reset_index(name='Qualified Leads')\n"
   ]
  },
  {
   "cell_type": "code",
   "execution_count": 244,
   "metadata": {},
   "outputs": [],
   "source": [
    "result = pd.merge(leads, bounced, on='Batch No', how='left')"
   ]
  },
  {
   "cell_type": "code",
   "execution_count": 245,
   "metadata": {},
   "outputs": [],
   "source": [
    "result = pd.merge(email_sent, result, on='Batch No', how='left')\n",
    "result = pd.merge(auto_reply, result, on='Batch No', how='left')\n",
    "result = pd.merge(qualified, result, on='Batch No', how='left')\n"
   ]
  },
  {
   "cell_type": "code",
   "execution_count": 246,
   "metadata": {},
   "outputs": [
    {
     "data": {
      "text/html": [
       "<div>\n",
       "<style scoped>\n",
       "    .dataframe tbody tr th:only-of-type {\n",
       "        vertical-align: middle;\n",
       "    }\n",
       "\n",
       "    .dataframe tbody tr th {\n",
       "        vertical-align: top;\n",
       "    }\n",
       "\n",
       "    .dataframe thead th {\n",
       "        text-align: right;\n",
       "    }\n",
       "</style>\n",
       "<table border=\"1\" class=\"dataframe\">\n",
       "  <thead>\n",
       "    <tr style=\"text-align: right;\">\n",
       "      <th></th>\n",
       "      <th>Batch No</th>\n",
       "      <th>Qualified Leads</th>\n",
       "      <th>Emails Auto reply</th>\n",
       "      <th>Emails Sent</th>\n",
       "      <th>Leads in a Batch</th>\n",
       "      <th>Emails Bounced</th>\n",
       "    </tr>\n",
       "  </thead>\n",
       "  <tbody>\n",
       "    <tr>\n",
       "      <th>0</th>\n",
       "      <td>1</td>\n",
       "      <td>56</td>\n",
       "      <td>3.0</td>\n",
       "      <td>1247.0</td>\n",
       "      <td>347.0</td>\n",
       "      <td>9.0</td>\n",
       "    </tr>\n",
       "    <tr>\n",
       "      <th>1</th>\n",
       "      <td>2</td>\n",
       "      <td>49</td>\n",
       "      <td>7.0</td>\n",
       "      <td>1144.0</td>\n",
       "      <td>320.0</td>\n",
       "      <td>9.0</td>\n",
       "    </tr>\n",
       "    <tr>\n",
       "      <th>2</th>\n",
       "      <td>3</td>\n",
       "      <td>57</td>\n",
       "      <td>4.0</td>\n",
       "      <td>1110.0</td>\n",
       "      <td>320.0</td>\n",
       "      <td>12.0</td>\n",
       "    </tr>\n",
       "    <tr>\n",
       "      <th>3</th>\n",
       "      <td>4</td>\n",
       "      <td>50</td>\n",
       "      <td>3.0</td>\n",
       "      <td>1127.0</td>\n",
       "      <td>320.0</td>\n",
       "      <td>11.0</td>\n",
       "    </tr>\n",
       "    <tr>\n",
       "      <th>4</th>\n",
       "      <td>5</td>\n",
       "      <td>44</td>\n",
       "      <td>6.0</td>\n",
       "      <td>1020.0</td>\n",
       "      <td>293.0</td>\n",
       "      <td>17.0</td>\n",
       "    </tr>\n",
       "    <tr>\n",
       "      <th>5</th>\n",
       "      <td>6</td>\n",
       "      <td>35</td>\n",
       "      <td>8.0</td>\n",
       "      <td>1147.0</td>\n",
       "      <td>320.0</td>\n",
       "      <td>14.0</td>\n",
       "    </tr>\n",
       "    <tr>\n",
       "      <th>6</th>\n",
       "      <td>7</td>\n",
       "      <td>53</td>\n",
       "      <td>1.0</td>\n",
       "      <td>1127.0</td>\n",
       "      <td>320.0</td>\n",
       "      <td>10.0</td>\n",
       "    </tr>\n",
       "    <tr>\n",
       "      <th>7</th>\n",
       "      <td>8</td>\n",
       "      <td>49</td>\n",
       "      <td>5.0</td>\n",
       "      <td>1120.0</td>\n",
       "      <td>320.0</td>\n",
       "      <td>18.0</td>\n",
       "    </tr>\n",
       "    <tr>\n",
       "      <th>8</th>\n",
       "      <td>9</td>\n",
       "      <td>13</td>\n",
       "      <td>3.0</td>\n",
       "      <td>247.0</td>\n",
       "      <td>71.0</td>\n",
       "      <td>4.0</td>\n",
       "    </tr>\n",
       "    <tr>\n",
       "      <th>9</th>\n",
       "      <td>Not from Cadence</td>\n",
       "      <td>22</td>\n",
       "      <td>NaN</td>\n",
       "      <td>NaN</td>\n",
       "      <td>NaN</td>\n",
       "      <td>NaN</td>\n",
       "    </tr>\n",
       "  </tbody>\n",
       "</table>\n",
       "</div>"
      ],
      "text/plain": [
       "           Batch No  Qualified Leads  Emails Auto reply  Emails Sent  \\\n",
       "0                 1               56                3.0       1247.0   \n",
       "1                 2               49                7.0       1144.0   \n",
       "2                 3               57                4.0       1110.0   \n",
       "3                 4               50                3.0       1127.0   \n",
       "4                 5               44                6.0       1020.0   \n",
       "5                 6               35                8.0       1147.0   \n",
       "6                 7               53                1.0       1127.0   \n",
       "7                 8               49                5.0       1120.0   \n",
       "8                 9               13                3.0        247.0   \n",
       "9  Not from Cadence               22                NaN          NaN   \n",
       "\n",
       "   Leads in a Batch  Emails Bounced  \n",
       "0             347.0             9.0  \n",
       "1             320.0             9.0  \n",
       "2             320.0            12.0  \n",
       "3             320.0            11.0  \n",
       "4             293.0            17.0  \n",
       "5             320.0            14.0  \n",
       "6             320.0            10.0  \n",
       "7             320.0            18.0  \n",
       "8              71.0             4.0  \n",
       "9               NaN             NaN  "
      ]
     },
     "execution_count": 246,
     "metadata": {},
     "output_type": "execute_result"
    }
   ],
   "source": [
    "result"
   ]
  },
  {
   "cell_type": "code",
   "execution_count": 247,
   "metadata": {},
   "outputs": [],
   "source": [
    "# Rename columns\n",
    "result = result.rename(columns={'Index': 'Batch No', 'Leads in a Batch': 'Leads', 'Emails Auto reply': 'Auto replies'})\n",
    "\n",
    "# Calculate bounced rate\n",
    "result['Bounced rate (%)'] = (result['Emails Bounced'] / result['Leads']) * 100\n",
    "\n",
    "# Calculate emails delivered\n",
    "result['Emails delivered'] = result['Emails Sent'] - result['Emails Bounced']\n",
    "\n",
    "# Calculate qualified emails\n",
    "result['Qualified emails'] = result['Qualified Leads'] + result['Auto replies']\n",
    "\n",
    "# Calculate qualified rate\n",
    "result['Qualified rate (%)'] = (result['Qualified emails'] / result['Emails delivered']) * 100\n",
    "\n",
    "# Reorganize the DataFrame and set 'Batch No' as the index\n",
    "result = result[['Batch No', 'Leads', 'Emails Sent', 'Emails Bounced', 'Bounced rate (%)', 'Emails delivered', 'Auto replies', 'Qualified emails', 'Qualified rate (%)']]\n",
    "result.set_index('Batch No', inplace=True)"
   ]
  },
  {
   "cell_type": "code",
   "execution_count": 248,
   "metadata": {},
   "outputs": [
    {
     "data": {
      "text/html": [
       "<div>\n",
       "<style scoped>\n",
       "    .dataframe tbody tr th:only-of-type {\n",
       "        vertical-align: middle;\n",
       "    }\n",
       "\n",
       "    .dataframe tbody tr th {\n",
       "        vertical-align: top;\n",
       "    }\n",
       "\n",
       "    .dataframe thead th {\n",
       "        text-align: right;\n",
       "    }\n",
       "</style>\n",
       "<table border=\"1\" class=\"dataframe\">\n",
       "  <thead>\n",
       "    <tr style=\"text-align: right;\">\n",
       "      <th></th>\n",
       "      <th>Leads</th>\n",
       "      <th>Emails Sent</th>\n",
       "      <th>Emails Bounced</th>\n",
       "      <th>Bounced rate (%)</th>\n",
       "      <th>Emails delivered</th>\n",
       "      <th>Auto replies</th>\n",
       "      <th>Qualified emails</th>\n",
       "      <th>Qualified rate (%)</th>\n",
       "    </tr>\n",
       "    <tr>\n",
       "      <th>Batch No</th>\n",
       "      <th></th>\n",
       "      <th></th>\n",
       "      <th></th>\n",
       "      <th></th>\n",
       "      <th></th>\n",
       "      <th></th>\n",
       "      <th></th>\n",
       "      <th></th>\n",
       "    </tr>\n",
       "  </thead>\n",
       "  <tbody>\n",
       "    <tr>\n",
       "      <th>1</th>\n",
       "      <td>347.0</td>\n",
       "      <td>1247.0</td>\n",
       "      <td>9.0</td>\n",
       "      <td>2.593660</td>\n",
       "      <td>1238.0</td>\n",
       "      <td>3.0</td>\n",
       "      <td>59.0</td>\n",
       "      <td>4.765751</td>\n",
       "    </tr>\n",
       "    <tr>\n",
       "      <th>2</th>\n",
       "      <td>320.0</td>\n",
       "      <td>1144.0</td>\n",
       "      <td>9.0</td>\n",
       "      <td>2.812500</td>\n",
       "      <td>1135.0</td>\n",
       "      <td>7.0</td>\n",
       "      <td>56.0</td>\n",
       "      <td>4.933921</td>\n",
       "    </tr>\n",
       "    <tr>\n",
       "      <th>3</th>\n",
       "      <td>320.0</td>\n",
       "      <td>1110.0</td>\n",
       "      <td>12.0</td>\n",
       "      <td>3.750000</td>\n",
       "      <td>1098.0</td>\n",
       "      <td>4.0</td>\n",
       "      <td>61.0</td>\n",
       "      <td>5.555556</td>\n",
       "    </tr>\n",
       "    <tr>\n",
       "      <th>4</th>\n",
       "      <td>320.0</td>\n",
       "      <td>1127.0</td>\n",
       "      <td>11.0</td>\n",
       "      <td>3.437500</td>\n",
       "      <td>1116.0</td>\n",
       "      <td>3.0</td>\n",
       "      <td>53.0</td>\n",
       "      <td>4.749104</td>\n",
       "    </tr>\n",
       "    <tr>\n",
       "      <th>5</th>\n",
       "      <td>293.0</td>\n",
       "      <td>1020.0</td>\n",
       "      <td>17.0</td>\n",
       "      <td>5.802048</td>\n",
       "      <td>1003.0</td>\n",
       "      <td>6.0</td>\n",
       "      <td>50.0</td>\n",
       "      <td>4.985045</td>\n",
       "    </tr>\n",
       "    <tr>\n",
       "      <th>6</th>\n",
       "      <td>320.0</td>\n",
       "      <td>1147.0</td>\n",
       "      <td>14.0</td>\n",
       "      <td>4.375000</td>\n",
       "      <td>1133.0</td>\n",
       "      <td>8.0</td>\n",
       "      <td>43.0</td>\n",
       "      <td>3.795234</td>\n",
       "    </tr>\n",
       "    <tr>\n",
       "      <th>7</th>\n",
       "      <td>320.0</td>\n",
       "      <td>1127.0</td>\n",
       "      <td>10.0</td>\n",
       "      <td>3.125000</td>\n",
       "      <td>1117.0</td>\n",
       "      <td>1.0</td>\n",
       "      <td>54.0</td>\n",
       "      <td>4.834378</td>\n",
       "    </tr>\n",
       "    <tr>\n",
       "      <th>8</th>\n",
       "      <td>320.0</td>\n",
       "      <td>1120.0</td>\n",
       "      <td>18.0</td>\n",
       "      <td>5.625000</td>\n",
       "      <td>1102.0</td>\n",
       "      <td>5.0</td>\n",
       "      <td>54.0</td>\n",
       "      <td>4.900181</td>\n",
       "    </tr>\n",
       "    <tr>\n",
       "      <th>9</th>\n",
       "      <td>71.0</td>\n",
       "      <td>247.0</td>\n",
       "      <td>4.0</td>\n",
       "      <td>5.633803</td>\n",
       "      <td>243.0</td>\n",
       "      <td>3.0</td>\n",
       "      <td>16.0</td>\n",
       "      <td>6.584362</td>\n",
       "    </tr>\n",
       "    <tr>\n",
       "      <th>Not from Cadence</th>\n",
       "      <td>NaN</td>\n",
       "      <td>NaN</td>\n",
       "      <td>NaN</td>\n",
       "      <td>NaN</td>\n",
       "      <td>NaN</td>\n",
       "      <td>NaN</td>\n",
       "      <td>NaN</td>\n",
       "      <td>NaN</td>\n",
       "    </tr>\n",
       "  </tbody>\n",
       "</table>\n",
       "</div>"
      ],
      "text/plain": [
       "                  Leads  Emails Sent  Emails Bounced  Bounced rate (%)  \\\n",
       "Batch No                                                                 \n",
       "1                 347.0       1247.0             9.0          2.593660   \n",
       "2                 320.0       1144.0             9.0          2.812500   \n",
       "3                 320.0       1110.0            12.0          3.750000   \n",
       "4                 320.0       1127.0            11.0          3.437500   \n",
       "5                 293.0       1020.0            17.0          5.802048   \n",
       "6                 320.0       1147.0            14.0          4.375000   \n",
       "7                 320.0       1127.0            10.0          3.125000   \n",
       "8                 320.0       1120.0            18.0          5.625000   \n",
       "9                  71.0        247.0             4.0          5.633803   \n",
       "Not from Cadence    NaN          NaN             NaN               NaN   \n",
       "\n",
       "                  Emails delivered  Auto replies  Qualified emails  \\\n",
       "Batch No                                                             \n",
       "1                           1238.0           3.0              59.0   \n",
       "2                           1135.0           7.0              56.0   \n",
       "3                           1098.0           4.0              61.0   \n",
       "4                           1116.0           3.0              53.0   \n",
       "5                           1003.0           6.0              50.0   \n",
       "6                           1133.0           8.0              43.0   \n",
       "7                           1117.0           1.0              54.0   \n",
       "8                           1102.0           5.0              54.0   \n",
       "9                            243.0           3.0              16.0   \n",
       "Not from Cadence               NaN           NaN               NaN   \n",
       "\n",
       "                  Qualified rate (%)  \n",
       "Batch No                              \n",
       "1                           4.765751  \n",
       "2                           4.933921  \n",
       "3                           5.555556  \n",
       "4                           4.749104  \n",
       "5                           4.985045  \n",
       "6                           3.795234  \n",
       "7                           4.834378  \n",
       "8                           4.900181  \n",
       "9                           6.584362  \n",
       "Not from Cadence                 NaN  "
      ]
     },
     "execution_count": 248,
     "metadata": {},
     "output_type": "execute_result"
    }
   ],
   "source": [
    "result"
   ]
  },
  {
   "cell_type": "code",
   "execution_count": 249,
   "metadata": {},
   "outputs": [
    {
     "data": {
      "text/plain": [
       "2631.0"
      ]
     },
     "execution_count": 249,
     "metadata": {},
     "output_type": "execute_result"
    }
   ],
   "source": [
    "result[\"Leads\"].sum()"
   ]
  },
  {
   "cell_type": "code",
   "execution_count": 250,
   "metadata": {},
   "outputs": [
    {
     "data": {
      "application/vnd.plotly.v1+json": {
       "config": {
        "plotlyServerURL": "https://plot.ly"
       },
       "data": [
        {
         "domain": {
          "x": [
           0,
           1
          ],
          "y": [
           0,
           1
          ]
         },
         "hovertemplate": "Category=%{label}<br>Count=%{value}<extra></extra>",
         "labels": [
          "Bounced",
          "Auto Reply",
          "Qualified"
         ],
         "legendgroup": "",
         "name": "",
         "showlegend": true,
         "type": "pie",
         "values": [
          9,
          3,
          59
         ]
        }
       ],
       "layout": {
        "legend": {
         "tracegroupgap": 0
        },
        "template": {
         "data": {
          "candlestick": [
           {
            "decreasing": {
             "line": {
              "color": "#000033"
             }
            },
            "increasing": {
             "line": {
              "color": "#000032"
             }
            },
            "type": "candlestick"
           }
          ],
          "contour": [
           {
            "colorscale": [
             [
              0,
              "#000011"
             ],
             [
              0.1111111111111111,
              "#000012"
             ],
             [
              0.2222222222222222,
              "#000013"
             ],
             [
              0.3333333333333333,
              "#000014"
             ],
             [
              0.4444444444444444,
              "#000015"
             ],
             [
              0.5555555555555556,
              "#000016"
             ],
             [
              0.6666666666666666,
              "#000017"
             ],
             [
              0.7777777777777778,
              "#000018"
             ],
             [
              0.8888888888888888,
              "#000019"
             ],
             [
              1,
              "#000020"
             ]
            ],
            "type": "contour"
           }
          ],
          "contourcarpet": [
           {
            "colorscale": [
             [
              0,
              "#000011"
             ],
             [
              0.1111111111111111,
              "#000012"
             ],
             [
              0.2222222222222222,
              "#000013"
             ],
             [
              0.3333333333333333,
              "#000014"
             ],
             [
              0.4444444444444444,
              "#000015"
             ],
             [
              0.5555555555555556,
              "#000016"
             ],
             [
              0.6666666666666666,
              "#000017"
             ],
             [
              0.7777777777777778,
              "#000018"
             ],
             [
              0.8888888888888888,
              "#000019"
             ],
             [
              1,
              "#000020"
             ]
            ],
            "type": "contourcarpet"
           }
          ],
          "heatmap": [
           {
            "colorscale": [
             [
              0,
              "#000011"
             ],
             [
              0.1111111111111111,
              "#000012"
             ],
             [
              0.2222222222222222,
              "#000013"
             ],
             [
              0.3333333333333333,
              "#000014"
             ],
             [
              0.4444444444444444,
              "#000015"
             ],
             [
              0.5555555555555556,
              "#000016"
             ],
             [
              0.6666666666666666,
              "#000017"
             ],
             [
              0.7777777777777778,
              "#000018"
             ],
             [
              0.8888888888888888,
              "#000019"
             ],
             [
              1,
              "#000020"
             ]
            ],
            "type": "heatmap"
           }
          ],
          "histogram2d": [
           {
            "colorscale": [
             [
              0,
              "#000011"
             ],
             [
              0.1111111111111111,
              "#000012"
             ],
             [
              0.2222222222222222,
              "#000013"
             ],
             [
              0.3333333333333333,
              "#000014"
             ],
             [
              0.4444444444444444,
              "#000015"
             ],
             [
              0.5555555555555556,
              "#000016"
             ],
             [
              0.6666666666666666,
              "#000017"
             ],
             [
              0.7777777777777778,
              "#000018"
             ],
             [
              0.8888888888888888,
              "#000019"
             ],
             [
              1,
              "#000020"
             ]
            ],
            "type": "histogram2d"
           }
          ],
          "icicle": [
           {
            "textfont": {
             "color": "white"
            },
            "type": "icicle"
           }
          ],
          "sankey": [
           {
            "textfont": {
             "color": "#000036"
            },
            "type": "sankey"
           }
          ],
          "scatter": [
           {
            "marker": {
             "line": {
              "width": 0
             }
            },
            "type": "scatter"
           }
          ],
          "table": [
           {
            "cells": {
             "fill": {
              "color": "#000038"
             },
             "font": {
              "color": "#000037"
             },
             "line": {
              "color": "#000039"
             }
            },
            "header": {
             "fill": {
              "color": "#000040"
             },
             "font": {
              "color": "#000036"
             },
             "line": {
              "color": "#000039"
             }
            },
            "type": "table"
           }
          ],
          "waterfall": [
           {
            "connector": {
             "line": {
              "color": "#000036",
              "width": 2
             }
            },
            "decreasing": {
             "marker": {
              "color": "#000033"
             }
            },
            "increasing": {
             "marker": {
              "color": "#000032"
             }
            },
            "totals": {
             "marker": {
              "color": "#000034"
             }
            },
            "type": "waterfall"
           }
          ]
         },
         "layout": {
          "coloraxis": {
           "colorscale": [
            [
             0,
             "#000011"
            ],
            [
             0.1111111111111111,
             "#000012"
            ],
            [
             0.2222222222222222,
             "#000013"
            ],
            [
             0.3333333333333333,
             "#000014"
            ],
            [
             0.4444444444444444,
             "#000015"
            ],
            [
             0.5555555555555556,
             "#000016"
            ],
            [
             0.6666666666666666,
             "#000017"
            ],
            [
             0.7777777777777778,
             "#000018"
            ],
            [
             0.8888888888888888,
             "#000019"
            ],
            [
             1,
             "#000020"
            ]
           ]
          },
          "colorscale": {
           "diverging": [
            [
             0,
             "#000021"
            ],
            [
             0.1,
             "#000022"
            ],
            [
             0.2,
             "#000023"
            ],
            [
             0.3,
             "#000024"
            ],
            [
             0.4,
             "#000025"
            ],
            [
             0.5,
             "#000026"
            ],
            [
             0.6,
             "#000027"
            ],
            [
             0.7,
             "#000028"
            ],
            [
             0.8,
             "#000029"
            ],
            [
             0.9,
             "#000030"
            ],
            [
             1,
             "#000031"
            ]
           ],
           "sequential": [
            [
             0,
             "#000011"
            ],
            [
             0.1111111111111111,
             "#000012"
            ],
            [
             0.2222222222222222,
             "#000013"
            ],
            [
             0.3333333333333333,
             "#000014"
            ],
            [
             0.4444444444444444,
             "#000015"
            ],
            [
             0.5555555555555556,
             "#000016"
            ],
            [
             0.6666666666666666,
             "#000017"
            ],
            [
             0.7777777777777778,
             "#000018"
            ],
            [
             0.8888888888888888,
             "#000019"
            ],
            [
             1,
             "#000020"
            ]
           ],
           "sequentialminus": [
            [
             0,
             "#000011"
            ],
            [
             0.1111111111111111,
             "#000012"
            ],
            [
             0.2222222222222222,
             "#000013"
            ],
            [
             0.3333333333333333,
             "#000014"
            ],
            [
             0.4444444444444444,
             "#000015"
            ],
            [
             0.5555555555555556,
             "#000016"
            ],
            [
             0.6666666666666666,
             "#000017"
            ],
            [
             0.7777777777777778,
             "#000018"
            ],
            [
             0.8888888888888888,
             "#000019"
            ],
            [
             1,
             "#000020"
            ]
           ]
          },
          "colorway": [
           "#000001",
           "#000002",
           "#000003",
           "#000004",
           "#000005",
           "#000006",
           "#000007",
           "#000008",
           "#000009",
           "#000010"
          ]
         }
        },
        "title": {
         "text": "Batch No 1 - Leads: 347.0"
        }
       }
      }
     },
     "metadata": {},
     "output_type": "display_data"
    }
   ],
   "source": [
    "import plotly.express as px\n",
    "\n",
    "# Assuming 'result' is your DataFrame containing the data\n",
    "\n",
    "# Filter data for Batch No 1\n",
    "batch_1_data = result[result.index == 1]\n",
    "\n",
    "# Extract relevant data\n",
    "leads = batch_1_data['Leads'].values[0]\n",
    "bounced = batch_1_data['Emails Bounced'].values[0]\n",
    "auto_reply = batch_1_data['Auto replies'].values[0]\n",
    "qualified = batch_1_data['Qualified emails'].values[0]\n",
    "\n",
    "# Create a DataFrame for the pie chart\n",
    "pie_data = pd.DataFrame({'Category': ['Bounced', 'Auto Reply', 'Qualified'],\n",
    "                         'Value': [bounced, auto_reply, qualified]})\n",
    "\n",
    "# Plot the pie chart\n",
    "fig = px.pie(pie_data, values='Value', names='Category', title=f'Batch No 1 - Leads: {leads}',\n",
    "             labels={'Value': 'Count', 'Category': 'Category'})\n",
    "\n",
    "# Show the plot\n",
    "fig.show()\n"
   ]
  },
  {
   "cell_type": "code",
   "execution_count": 251,
   "metadata": {},
   "outputs": [
    {
     "data": {
      "application/vnd.plotly.v1+json": {
       "config": {
        "plotlyServerURL": "https://plot.ly"
       },
       "data": [
        {
         "alignmentgroup": "True",
         "hovertemplate": "Category=Bounced (%)<br>Batch No=%{x}<br>Percentage=%{y}<extra></extra>",
         "legendgroup": "Bounced (%)",
         "marker": {
          "color": "#000001",
          "pattern": {
           "shape": ""
          }
         },
         "name": "Bounced (%)",
         "offsetgroup": "Bounced (%)",
         "orientation": "v",
         "showlegend": true,
         "textposition": "auto",
         "type": "bar",
         "x": [
          1,
          2,
          3,
          4,
          5,
          6,
          7,
          8,
          9,
          "Not from Cadence"
         ],
         "xaxis": "x",
         "y": [
          2.5936599423631126,
          2.8125,
          3.75,
          3.4375000000000004,
          5.802047781569966,
          4.375,
          3.125,
          5.625,
          5.633802816901409,
          null
         ],
         "yaxis": "y"
        },
        {
         "alignmentgroup": "True",
         "hovertemplate": "Category=Auto Reply (%)<br>Batch No=%{x}<br>Percentage=%{y}<extra></extra>",
         "legendgroup": "Auto Reply (%)",
         "marker": {
          "color": "#000002",
          "pattern": {
           "shape": ""
          }
         },
         "name": "Auto Reply (%)",
         "offsetgroup": "Auto Reply (%)",
         "orientation": "v",
         "showlegend": true,
         "textposition": "auto",
         "type": "bar",
         "x": [
          1,
          2,
          3,
          4,
          5,
          6,
          7,
          8,
          9,
          "Not from Cadence"
         ],
         "xaxis": "x",
         "y": [
          0.8645533141210375,
          2.1875,
          1.25,
          0.9375,
          2.04778156996587,
          2.5,
          0.3125,
          1.5625,
          4.225352112676056,
          null
         ],
         "yaxis": "y"
        },
        {
         "alignmentgroup": "True",
         "hovertemplate": "Category=Qualified (%)<br>Batch No=%{x}<br>Percentage=%{y}<extra></extra>",
         "legendgroup": "Qualified (%)",
         "marker": {
          "color": "#000003",
          "pattern": {
           "shape": ""
          }
         },
         "name": "Qualified (%)",
         "offsetgroup": "Qualified (%)",
         "orientation": "v",
         "showlegend": true,
         "textposition": "auto",
         "type": "bar",
         "x": [
          1,
          2,
          3,
          4,
          5,
          6,
          7,
          8,
          9,
          "Not from Cadence"
         ],
         "xaxis": "x",
         "y": [
          17.002881844380404,
          17.5,
          19.0625,
          16.5625,
          17.064846416382252,
          13.4375,
          16.875,
          16.875,
          22.535211267605636,
          null
         ],
         "yaxis": "y"
        }
       ],
       "layout": {
        "barmode": "stack",
        "legend": {
         "title": {
          "text": "Category"
         },
         "tracegroupgap": 0
        },
        "template": {
         "data": {
          "candlestick": [
           {
            "decreasing": {
             "line": {
              "color": "#000033"
             }
            },
            "increasing": {
             "line": {
              "color": "#000032"
             }
            },
            "type": "candlestick"
           }
          ],
          "contour": [
           {
            "colorscale": [
             [
              0,
              "#000011"
             ],
             [
              0.1111111111111111,
              "#000012"
             ],
             [
              0.2222222222222222,
              "#000013"
             ],
             [
              0.3333333333333333,
              "#000014"
             ],
             [
              0.4444444444444444,
              "#000015"
             ],
             [
              0.5555555555555556,
              "#000016"
             ],
             [
              0.6666666666666666,
              "#000017"
             ],
             [
              0.7777777777777778,
              "#000018"
             ],
             [
              0.8888888888888888,
              "#000019"
             ],
             [
              1,
              "#000020"
             ]
            ],
            "type": "contour"
           }
          ],
          "contourcarpet": [
           {
            "colorscale": [
             [
              0,
              "#000011"
             ],
             [
              0.1111111111111111,
              "#000012"
             ],
             [
              0.2222222222222222,
              "#000013"
             ],
             [
              0.3333333333333333,
              "#000014"
             ],
             [
              0.4444444444444444,
              "#000015"
             ],
             [
              0.5555555555555556,
              "#000016"
             ],
             [
              0.6666666666666666,
              "#000017"
             ],
             [
              0.7777777777777778,
              "#000018"
             ],
             [
              0.8888888888888888,
              "#000019"
             ],
             [
              1,
              "#000020"
             ]
            ],
            "type": "contourcarpet"
           }
          ],
          "heatmap": [
           {
            "colorscale": [
             [
              0,
              "#000011"
             ],
             [
              0.1111111111111111,
              "#000012"
             ],
             [
              0.2222222222222222,
              "#000013"
             ],
             [
              0.3333333333333333,
              "#000014"
             ],
             [
              0.4444444444444444,
              "#000015"
             ],
             [
              0.5555555555555556,
              "#000016"
             ],
             [
              0.6666666666666666,
              "#000017"
             ],
             [
              0.7777777777777778,
              "#000018"
             ],
             [
              0.8888888888888888,
              "#000019"
             ],
             [
              1,
              "#000020"
             ]
            ],
            "type": "heatmap"
           }
          ],
          "histogram2d": [
           {
            "colorscale": [
             [
              0,
              "#000011"
             ],
             [
              0.1111111111111111,
              "#000012"
             ],
             [
              0.2222222222222222,
              "#000013"
             ],
             [
              0.3333333333333333,
              "#000014"
             ],
             [
              0.4444444444444444,
              "#000015"
             ],
             [
              0.5555555555555556,
              "#000016"
             ],
             [
              0.6666666666666666,
              "#000017"
             ],
             [
              0.7777777777777778,
              "#000018"
             ],
             [
              0.8888888888888888,
              "#000019"
             ],
             [
              1,
              "#000020"
             ]
            ],
            "type": "histogram2d"
           }
          ],
          "icicle": [
           {
            "textfont": {
             "color": "white"
            },
            "type": "icicle"
           }
          ],
          "sankey": [
           {
            "textfont": {
             "color": "#000036"
            },
            "type": "sankey"
           }
          ],
          "scatter": [
           {
            "marker": {
             "line": {
              "width": 0
             }
            },
            "type": "scatter"
           }
          ],
          "table": [
           {
            "cells": {
             "fill": {
              "color": "#000038"
             },
             "font": {
              "color": "#000037"
             },
             "line": {
              "color": "#000039"
             }
            },
            "header": {
             "fill": {
              "color": "#000040"
             },
             "font": {
              "color": "#000036"
             },
             "line": {
              "color": "#000039"
             }
            },
            "type": "table"
           }
          ],
          "waterfall": [
           {
            "connector": {
             "line": {
              "color": "#000036",
              "width": 2
             }
            },
            "decreasing": {
             "marker": {
              "color": "#000033"
             }
            },
            "increasing": {
             "marker": {
              "color": "#000032"
             }
            },
            "totals": {
             "marker": {
              "color": "#000034"
             }
            },
            "type": "waterfall"
           }
          ]
         },
         "layout": {
          "coloraxis": {
           "colorscale": [
            [
             0,
             "#000011"
            ],
            [
             0.1111111111111111,
             "#000012"
            ],
            [
             0.2222222222222222,
             "#000013"
            ],
            [
             0.3333333333333333,
             "#000014"
            ],
            [
             0.4444444444444444,
             "#000015"
            ],
            [
             0.5555555555555556,
             "#000016"
            ],
            [
             0.6666666666666666,
             "#000017"
            ],
            [
             0.7777777777777778,
             "#000018"
            ],
            [
             0.8888888888888888,
             "#000019"
            ],
            [
             1,
             "#000020"
            ]
           ]
          },
          "colorscale": {
           "diverging": [
            [
             0,
             "#000021"
            ],
            [
             0.1,
             "#000022"
            ],
            [
             0.2,
             "#000023"
            ],
            [
             0.3,
             "#000024"
            ],
            [
             0.4,
             "#000025"
            ],
            [
             0.5,
             "#000026"
            ],
            [
             0.6,
             "#000027"
            ],
            [
             0.7,
             "#000028"
            ],
            [
             0.8,
             "#000029"
            ],
            [
             0.9,
             "#000030"
            ],
            [
             1,
             "#000031"
            ]
           ],
           "sequential": [
            [
             0,
             "#000011"
            ],
            [
             0.1111111111111111,
             "#000012"
            ],
            [
             0.2222222222222222,
             "#000013"
            ],
            [
             0.3333333333333333,
             "#000014"
            ],
            [
             0.4444444444444444,
             "#000015"
            ],
            [
             0.5555555555555556,
             "#000016"
            ],
            [
             0.6666666666666666,
             "#000017"
            ],
            [
             0.7777777777777778,
             "#000018"
            ],
            [
             0.8888888888888888,
             "#000019"
            ],
            [
             1,
             "#000020"
            ]
           ],
           "sequentialminus": [
            [
             0,
             "#000011"
            ],
            [
             0.1111111111111111,
             "#000012"
            ],
            [
             0.2222222222222222,
             "#000013"
            ],
            [
             0.3333333333333333,
             "#000014"
            ],
            [
             0.4444444444444444,
             "#000015"
            ],
            [
             0.5555555555555556,
             "#000016"
            ],
            [
             0.6666666666666666,
             "#000017"
            ],
            [
             0.7777777777777778,
             "#000018"
            ],
            [
             0.8888888888888888,
             "#000019"
            ],
            [
             1,
             "#000020"
            ]
           ]
          },
          "colorway": [
           "#000001",
           "#000002",
           "#000003",
           "#000004",
           "#000005",
           "#000006",
           "#000007",
           "#000008",
           "#000009",
           "#000010"
          ]
         }
        },
        "title": {
         "text": "Percentage Breakdown of Bounced, Auto-reply, and Qualified Emails for Each Batch"
        },
        "xaxis": {
         "anchor": "y",
         "domain": [
          0,
          1
         ],
         "title": {
          "text": "Batch No"
         }
        },
        "yaxis": {
         "anchor": "x",
         "domain": [
          0,
          1
         ],
         "title": {
          "text": "Percentage"
         }
        }
       }
      }
     },
     "metadata": {},
     "output_type": "display_data"
    }
   ],
   "source": [
    "import plotly.express as px\n",
    "\n",
    "# Calculate percentages for each category\n",
    "result['Bounced (%)'] = (result['Emails Bounced'] / result['Leads']) * 100\n",
    "result['Auto Reply (%)'] = (result['Auto replies'] / result['Leads']) * 100\n",
    "result['Qualified (%)'] = (result['Qualified emails'] / result['Leads']) * 100\n",
    "\n",
    "# Create a bar chart\n",
    "fig = px.bar(result, x=result.index, y=['Bounced (%)', 'Auto Reply (%)', 'Qualified (%)'],\n",
    "             title='Percentage Breakdown of Bounced, Auto-reply, and Qualified Emails for Each Batch',\n",
    "             labels={'value': 'Percentage', 'variable': 'Category', 'index': 'Batch No'},\n",
    "             barmode='stack')\n",
    "\n",
    "# Show the plot\n",
    "fig.show()\n"
   ]
  },
  {
   "cell_type": "code",
   "execution_count": 252,
   "metadata": {},
   "outputs": [
    {
     "data": {
      "application/vnd.plotly.v1+json": {
       "config": {
        "plotlyServerURL": "https://plot.ly"
       },
       "data": [
        {
         "alignmentgroup": "True",
         "hovertemplate": "Category=Bounced (%)<br>Batch No=%{x}<br>Percentage=%{y}<extra></extra>",
         "legendgroup": "Bounced (%)",
         "marker": {
          "color": "#000001",
          "pattern": {
           "shape": ""
          }
         },
         "name": "Bounced (%)",
         "offsetgroup": "Bounced (%)",
         "orientation": "v",
         "showlegend": true,
         "textposition": "auto",
         "type": "bar",
         "x": [
          1,
          2,
          3,
          4,
          5,
          6,
          7,
          8,
          9,
          "Not from Cadence"
         ],
         "xaxis": "x",
         "y": [
          2.5936599423631126,
          2.8125,
          3.75,
          3.4375000000000004,
          5.802047781569966,
          4.375,
          3.125,
          5.625,
          5.633802816901409,
          null
         ],
         "yaxis": "y"
        },
        {
         "alignmentgroup": "True",
         "hovertemplate": "Category=Auto Reply (%)<br>Batch No=%{x}<br>Percentage=%{y}<extra></extra>",
         "legendgroup": "Auto Reply (%)",
         "marker": {
          "color": "#000002",
          "pattern": {
           "shape": ""
          }
         },
         "name": "Auto Reply (%)",
         "offsetgroup": "Auto Reply (%)",
         "orientation": "v",
         "showlegend": true,
         "textposition": "auto",
         "type": "bar",
         "x": [
          1,
          2,
          3,
          4,
          5,
          6,
          7,
          8,
          9,
          "Not from Cadence"
         ],
         "xaxis": "x",
         "y": [
          0.8645533141210375,
          2.1875,
          1.25,
          0.9375,
          2.04778156996587,
          2.5,
          0.3125,
          1.5625,
          4.225352112676056,
          null
         ],
         "yaxis": "y"
        },
        {
         "alignmentgroup": "True",
         "hovertemplate": "Category=Qualified (%)<br>Batch No=%{x}<br>Percentage=%{y}<extra></extra>",
         "legendgroup": "Qualified (%)",
         "marker": {
          "color": "#000003",
          "pattern": {
           "shape": ""
          }
         },
         "name": "Qualified (%)",
         "offsetgroup": "Qualified (%)",
         "orientation": "v",
         "showlegend": true,
         "textposition": "auto",
         "type": "bar",
         "x": [
          1,
          2,
          3,
          4,
          5,
          6,
          7,
          8,
          9,
          "Not from Cadence"
         ],
         "xaxis": "x",
         "y": [
          17.002881844380404,
          17.5,
          19.0625,
          16.5625,
          17.064846416382252,
          13.4375,
          16.875,
          16.875,
          22.535211267605636,
          null
         ],
         "yaxis": "y"
        }
       ],
       "layout": {
        "barmode": "stack",
        "legend": {
         "title": {
          "text": "Category"
         },
         "tracegroupgap": 0
        },
        "template": {
         "data": {
          "candlestick": [
           {
            "decreasing": {
             "line": {
              "color": "#000033"
             }
            },
            "increasing": {
             "line": {
              "color": "#000032"
             }
            },
            "type": "candlestick"
           }
          ],
          "contour": [
           {
            "colorscale": [
             [
              0,
              "#000011"
             ],
             [
              0.1111111111111111,
              "#000012"
             ],
             [
              0.2222222222222222,
              "#000013"
             ],
             [
              0.3333333333333333,
              "#000014"
             ],
             [
              0.4444444444444444,
              "#000015"
             ],
             [
              0.5555555555555556,
              "#000016"
             ],
             [
              0.6666666666666666,
              "#000017"
             ],
             [
              0.7777777777777778,
              "#000018"
             ],
             [
              0.8888888888888888,
              "#000019"
             ],
             [
              1,
              "#000020"
             ]
            ],
            "type": "contour"
           }
          ],
          "contourcarpet": [
           {
            "colorscale": [
             [
              0,
              "#000011"
             ],
             [
              0.1111111111111111,
              "#000012"
             ],
             [
              0.2222222222222222,
              "#000013"
             ],
             [
              0.3333333333333333,
              "#000014"
             ],
             [
              0.4444444444444444,
              "#000015"
             ],
             [
              0.5555555555555556,
              "#000016"
             ],
             [
              0.6666666666666666,
              "#000017"
             ],
             [
              0.7777777777777778,
              "#000018"
             ],
             [
              0.8888888888888888,
              "#000019"
             ],
             [
              1,
              "#000020"
             ]
            ],
            "type": "contourcarpet"
           }
          ],
          "heatmap": [
           {
            "colorscale": [
             [
              0,
              "#000011"
             ],
             [
              0.1111111111111111,
              "#000012"
             ],
             [
              0.2222222222222222,
              "#000013"
             ],
             [
              0.3333333333333333,
              "#000014"
             ],
             [
              0.4444444444444444,
              "#000015"
             ],
             [
              0.5555555555555556,
              "#000016"
             ],
             [
              0.6666666666666666,
              "#000017"
             ],
             [
              0.7777777777777778,
              "#000018"
             ],
             [
              0.8888888888888888,
              "#000019"
             ],
             [
              1,
              "#000020"
             ]
            ],
            "type": "heatmap"
           }
          ],
          "histogram2d": [
           {
            "colorscale": [
             [
              0,
              "#000011"
             ],
             [
              0.1111111111111111,
              "#000012"
             ],
             [
              0.2222222222222222,
              "#000013"
             ],
             [
              0.3333333333333333,
              "#000014"
             ],
             [
              0.4444444444444444,
              "#000015"
             ],
             [
              0.5555555555555556,
              "#000016"
             ],
             [
              0.6666666666666666,
              "#000017"
             ],
             [
              0.7777777777777778,
              "#000018"
             ],
             [
              0.8888888888888888,
              "#000019"
             ],
             [
              1,
              "#000020"
             ]
            ],
            "type": "histogram2d"
           }
          ],
          "icicle": [
           {
            "textfont": {
             "color": "white"
            },
            "type": "icicle"
           }
          ],
          "sankey": [
           {
            "textfont": {
             "color": "#000036"
            },
            "type": "sankey"
           }
          ],
          "scatter": [
           {
            "marker": {
             "line": {
              "width": 0
             }
            },
            "type": "scatter"
           }
          ],
          "table": [
           {
            "cells": {
             "fill": {
              "color": "#000038"
             },
             "font": {
              "color": "#000037"
             },
             "line": {
              "color": "#000039"
             }
            },
            "header": {
             "fill": {
              "color": "#000040"
             },
             "font": {
              "color": "#000036"
             },
             "line": {
              "color": "#000039"
             }
            },
            "type": "table"
           }
          ],
          "waterfall": [
           {
            "connector": {
             "line": {
              "color": "#000036",
              "width": 2
             }
            },
            "decreasing": {
             "marker": {
              "color": "#000033"
             }
            },
            "increasing": {
             "marker": {
              "color": "#000032"
             }
            },
            "totals": {
             "marker": {
              "color": "#000034"
             }
            },
            "type": "waterfall"
           }
          ]
         },
         "layout": {
          "coloraxis": {
           "colorscale": [
            [
             0,
             "#000011"
            ],
            [
             0.1111111111111111,
             "#000012"
            ],
            [
             0.2222222222222222,
             "#000013"
            ],
            [
             0.3333333333333333,
             "#000014"
            ],
            [
             0.4444444444444444,
             "#000015"
            ],
            [
             0.5555555555555556,
             "#000016"
            ],
            [
             0.6666666666666666,
             "#000017"
            ],
            [
             0.7777777777777778,
             "#000018"
            ],
            [
             0.8888888888888888,
             "#000019"
            ],
            [
             1,
             "#000020"
            ]
           ]
          },
          "colorscale": {
           "diverging": [
            [
             0,
             "#000021"
            ],
            [
             0.1,
             "#000022"
            ],
            [
             0.2,
             "#000023"
            ],
            [
             0.3,
             "#000024"
            ],
            [
             0.4,
             "#000025"
            ],
            [
             0.5,
             "#000026"
            ],
            [
             0.6,
             "#000027"
            ],
            [
             0.7,
             "#000028"
            ],
            [
             0.8,
             "#000029"
            ],
            [
             0.9,
             "#000030"
            ],
            [
             1,
             "#000031"
            ]
           ],
           "sequential": [
            [
             0,
             "#000011"
            ],
            [
             0.1111111111111111,
             "#000012"
            ],
            [
             0.2222222222222222,
             "#000013"
            ],
            [
             0.3333333333333333,
             "#000014"
            ],
            [
             0.4444444444444444,
             "#000015"
            ],
            [
             0.5555555555555556,
             "#000016"
            ],
            [
             0.6666666666666666,
             "#000017"
            ],
            [
             0.7777777777777778,
             "#000018"
            ],
            [
             0.8888888888888888,
             "#000019"
            ],
            [
             1,
             "#000020"
            ]
           ],
           "sequentialminus": [
            [
             0,
             "#000011"
            ],
            [
             0.1111111111111111,
             "#000012"
            ],
            [
             0.2222222222222222,
             "#000013"
            ],
            [
             0.3333333333333333,
             "#000014"
            ],
            [
             0.4444444444444444,
             "#000015"
            ],
            [
             0.5555555555555556,
             "#000016"
            ],
            [
             0.6666666666666666,
             "#000017"
            ],
            [
             0.7777777777777778,
             "#000018"
            ],
            [
             0.8888888888888888,
             "#000019"
            ],
            [
             1,
             "#000020"
            ]
           ]
          },
          "colorway": [
           "#000001",
           "#000002",
           "#000003",
           "#000004",
           "#000005",
           "#000006",
           "#000007",
           "#000008",
           "#000009",
           "#000010"
          ]
         }
        },
        "title": {
         "text": "Percentage Breakdown of Bounced, Auto-reply, and Qualified Emails for Each Batch"
        },
        "xaxis": {
         "anchor": "y",
         "domain": [
          0,
          1
         ],
         "title": {
          "text": "Batch No"
         }
        },
        "yaxis": {
         "anchor": "x",
         "domain": [
          0,
          1
         ],
         "title": {
          "text": "Percentage"
         }
        }
       }
      }
     },
     "metadata": {},
     "output_type": "display_data"
    }
   ],
   "source": [
    "import plotly.express as px\n",
    "\n",
    "# Assuming 'result' is your DataFrame containing the data\n",
    "\n",
    "# Reset index to make 'Batch No' a column instead of index\n",
    "result.reset_index(inplace=True)\n",
    "\n",
    "# Melt the DataFrame to transform it into long format for plotting\n",
    "result_melted = pd.melt(result, id_vars='Batch No', value_vars=['Bounced (%)', 'Auto Reply (%)', 'Qualified (%)'],\n",
    "                    var_name='Category', value_name='Percentage')\n",
    "\n",
    "# Create a bar chart\n",
    "fig = px.bar(result_melted, x='Batch No', y='Percentage', color='Category',\n",
    "             title='Percentage Breakdown of Bounced, Auto-reply, and Qualified Emails for Each Batch',\n",
    "             labels={'Percentage': 'Percentage', 'Batch No': 'Batch No', 'Category': 'Category'},\n",
    "             barmode='stack')\n",
    "\n",
    "# Show the plot\n",
    "fig.show()\n"
   ]
  },
  {
   "cell_type": "code",
   "execution_count": 253,
   "metadata": {},
   "outputs": [
    {
     "data": {
      "application/vnd.plotly.v1+json": {
       "config": {
        "plotlyServerURL": "https://plot.ly"
       },
       "data": [
        {
         "alignmentgroup": "True",
         "hovertemplate": "Category=Bounced (%)<br>Batch No=%{x}<br>Percentage=%{y}<extra></extra>",
         "legendgroup": "Bounced (%)",
         "marker": {
          "color": "#000001",
          "pattern": {
           "shape": ""
          }
         },
         "name": "Bounced (%)",
         "offsetgroup": "Bounced (%)",
         "orientation": "v",
         "showlegend": true,
         "textposition": "auto",
         "type": "bar",
         "x": [
          1,
          2,
          3,
          4,
          5,
          6,
          7,
          8,
          9,
          "Not from Cadence"
         ],
         "xaxis": "x",
         "y": [
          2.5936599423631126,
          2.8125,
          3.75,
          3.4375000000000004,
          5.802047781569966,
          4.375,
          3.125,
          5.625,
          5.633802816901409,
          null
         ],
         "yaxis": "y"
        },
        {
         "alignmentgroup": "True",
         "hovertemplate": "Category=Auto replies (%)<br>Batch No=%{x}<br>Percentage=%{y}<extra></extra>",
         "legendgroup": "Auto replies (%)",
         "marker": {
          "color": "#000002",
          "pattern": {
           "shape": ""
          }
         },
         "name": "Auto replies (%)",
         "offsetgroup": "Auto replies (%)",
         "orientation": "v",
         "showlegend": true,
         "textposition": "auto",
         "type": "bar",
         "x": [
          1,
          2,
          3,
          4,
          5,
          6,
          7,
          8,
          9,
          "Not from Cadence"
         ],
         "xaxis": "x",
         "y": [
          0.8645533141210375,
          2.1875,
          1.25,
          0.9375,
          2.04778156996587,
          2.5,
          0.3125,
          1.5625,
          4.225352112676056,
          null
         ],
         "yaxis": "y"
        },
        {
         "alignmentgroup": "True",
         "hovertemplate": "Category=Qualified (%)<br>Batch No=%{x}<br>Percentage=%{y}<extra></extra>",
         "legendgroup": "Qualified (%)",
         "marker": {
          "color": "#000003",
          "pattern": {
           "shape": ""
          }
         },
         "name": "Qualified (%)",
         "offsetgroup": "Qualified (%)",
         "orientation": "v",
         "showlegend": true,
         "textposition": "auto",
         "type": "bar",
         "x": [
          1,
          2,
          3,
          4,
          5,
          6,
          7,
          8,
          9,
          "Not from Cadence"
         ],
         "xaxis": "x",
         "y": [
          17.002881844380404,
          17.5,
          19.0625,
          16.5625,
          17.064846416382252,
          13.4375,
          16.875,
          16.875,
          22.535211267605636,
          null
         ],
         "yaxis": "y"
        }
       ],
       "layout": {
        "barmode": "stack",
        "legend": {
         "title": {
          "text": "Category"
         },
         "tracegroupgap": 0
        },
        "template": {
         "data": {
          "candlestick": [
           {
            "decreasing": {
             "line": {
              "color": "#000033"
             }
            },
            "increasing": {
             "line": {
              "color": "#000032"
             }
            },
            "type": "candlestick"
           }
          ],
          "contour": [
           {
            "colorscale": [
             [
              0,
              "#000011"
             ],
             [
              0.1111111111111111,
              "#000012"
             ],
             [
              0.2222222222222222,
              "#000013"
             ],
             [
              0.3333333333333333,
              "#000014"
             ],
             [
              0.4444444444444444,
              "#000015"
             ],
             [
              0.5555555555555556,
              "#000016"
             ],
             [
              0.6666666666666666,
              "#000017"
             ],
             [
              0.7777777777777778,
              "#000018"
             ],
             [
              0.8888888888888888,
              "#000019"
             ],
             [
              1,
              "#000020"
             ]
            ],
            "type": "contour"
           }
          ],
          "contourcarpet": [
           {
            "colorscale": [
             [
              0,
              "#000011"
             ],
             [
              0.1111111111111111,
              "#000012"
             ],
             [
              0.2222222222222222,
              "#000013"
             ],
             [
              0.3333333333333333,
              "#000014"
             ],
             [
              0.4444444444444444,
              "#000015"
             ],
             [
              0.5555555555555556,
              "#000016"
             ],
             [
              0.6666666666666666,
              "#000017"
             ],
             [
              0.7777777777777778,
              "#000018"
             ],
             [
              0.8888888888888888,
              "#000019"
             ],
             [
              1,
              "#000020"
             ]
            ],
            "type": "contourcarpet"
           }
          ],
          "heatmap": [
           {
            "colorscale": [
             [
              0,
              "#000011"
             ],
             [
              0.1111111111111111,
              "#000012"
             ],
             [
              0.2222222222222222,
              "#000013"
             ],
             [
              0.3333333333333333,
              "#000014"
             ],
             [
              0.4444444444444444,
              "#000015"
             ],
             [
              0.5555555555555556,
              "#000016"
             ],
             [
              0.6666666666666666,
              "#000017"
             ],
             [
              0.7777777777777778,
              "#000018"
             ],
             [
              0.8888888888888888,
              "#000019"
             ],
             [
              1,
              "#000020"
             ]
            ],
            "type": "heatmap"
           }
          ],
          "histogram2d": [
           {
            "colorscale": [
             [
              0,
              "#000011"
             ],
             [
              0.1111111111111111,
              "#000012"
             ],
             [
              0.2222222222222222,
              "#000013"
             ],
             [
              0.3333333333333333,
              "#000014"
             ],
             [
              0.4444444444444444,
              "#000015"
             ],
             [
              0.5555555555555556,
              "#000016"
             ],
             [
              0.6666666666666666,
              "#000017"
             ],
             [
              0.7777777777777778,
              "#000018"
             ],
             [
              0.8888888888888888,
              "#000019"
             ],
             [
              1,
              "#000020"
             ]
            ],
            "type": "histogram2d"
           }
          ],
          "icicle": [
           {
            "textfont": {
             "color": "white"
            },
            "type": "icicle"
           }
          ],
          "sankey": [
           {
            "textfont": {
             "color": "#000036"
            },
            "type": "sankey"
           }
          ],
          "scatter": [
           {
            "marker": {
             "line": {
              "width": 0
             }
            },
            "type": "scatter"
           }
          ],
          "table": [
           {
            "cells": {
             "fill": {
              "color": "#000038"
             },
             "font": {
              "color": "#000037"
             },
             "line": {
              "color": "#000039"
             }
            },
            "header": {
             "fill": {
              "color": "#000040"
             },
             "font": {
              "color": "#000036"
             },
             "line": {
              "color": "#000039"
             }
            },
            "type": "table"
           }
          ],
          "waterfall": [
           {
            "connector": {
             "line": {
              "color": "#000036",
              "width": 2
             }
            },
            "decreasing": {
             "marker": {
              "color": "#000033"
             }
            },
            "increasing": {
             "marker": {
              "color": "#000032"
             }
            },
            "totals": {
             "marker": {
              "color": "#000034"
             }
            },
            "type": "waterfall"
           }
          ]
         },
         "layout": {
          "coloraxis": {
           "colorscale": [
            [
             0,
             "#000011"
            ],
            [
             0.1111111111111111,
             "#000012"
            ],
            [
             0.2222222222222222,
             "#000013"
            ],
            [
             0.3333333333333333,
             "#000014"
            ],
            [
             0.4444444444444444,
             "#000015"
            ],
            [
             0.5555555555555556,
             "#000016"
            ],
            [
             0.6666666666666666,
             "#000017"
            ],
            [
             0.7777777777777778,
             "#000018"
            ],
            [
             0.8888888888888888,
             "#000019"
            ],
            [
             1,
             "#000020"
            ]
           ]
          },
          "colorscale": {
           "diverging": [
            [
             0,
             "#000021"
            ],
            [
             0.1,
             "#000022"
            ],
            [
             0.2,
             "#000023"
            ],
            [
             0.3,
             "#000024"
            ],
            [
             0.4,
             "#000025"
            ],
            [
             0.5,
             "#000026"
            ],
            [
             0.6,
             "#000027"
            ],
            [
             0.7,
             "#000028"
            ],
            [
             0.8,
             "#000029"
            ],
            [
             0.9,
             "#000030"
            ],
            [
             1,
             "#000031"
            ]
           ],
           "sequential": [
            [
             0,
             "#000011"
            ],
            [
             0.1111111111111111,
             "#000012"
            ],
            [
             0.2222222222222222,
             "#000013"
            ],
            [
             0.3333333333333333,
             "#000014"
            ],
            [
             0.4444444444444444,
             "#000015"
            ],
            [
             0.5555555555555556,
             "#000016"
            ],
            [
             0.6666666666666666,
             "#000017"
            ],
            [
             0.7777777777777778,
             "#000018"
            ],
            [
             0.8888888888888888,
             "#000019"
            ],
            [
             1,
             "#000020"
            ]
           ],
           "sequentialminus": [
            [
             0,
             "#000011"
            ],
            [
             0.1111111111111111,
             "#000012"
            ],
            [
             0.2222222222222222,
             "#000013"
            ],
            [
             0.3333333333333333,
             "#000014"
            ],
            [
             0.4444444444444444,
             "#000015"
            ],
            [
             0.5555555555555556,
             "#000016"
            ],
            [
             0.6666666666666666,
             "#000017"
            ],
            [
             0.7777777777777778,
             "#000018"
            ],
            [
             0.8888888888888888,
             "#000019"
            ],
            [
             1,
             "#000020"
            ]
           ]
          },
          "colorway": [
           "#000001",
           "#000002",
           "#000003",
           "#000004",
           "#000005",
           "#000006",
           "#000007",
           "#000008",
           "#000009",
           "#000010"
          ]
         }
        },
        "title": {
         "text": "Percentage Breakdown of Bounced, Auto-replies, and Qualified Emails Relative to Number of Leads"
        },
        "xaxis": {
         "anchor": "y",
         "domain": [
          0,
          1
         ],
         "title": {
          "text": "Batch No"
         }
        },
        "yaxis": {
         "anchor": "x",
         "domain": [
          0,
          1
         ],
         "title": {
          "text": "Percentage"
         }
        }
       }
      }
     },
     "metadata": {},
     "output_type": "display_data"
    }
   ],
   "source": [
    "import pandas as pd\n",
    "import plotly.express as px\n",
    "\n",
    "\n",
    "# Calculate percentages relative to the number of leads\n",
    "result['Bounced (%)'] = (result['Emails Bounced'] / result['Leads']) * 100\n",
    "result['Auto replies (%)'] = (result['Auto replies'] / result['Leads']) * 100\n",
    "result['Qualified (%)'] = (result['Qualified emails'] / result['Leads']) * 100\n",
    "\n",
    "# Melt the DataFrame to transform it into long format for plotting\n",
    "result_melted = pd.melt(result, id_vars='Batch No', value_vars=['Bounced (%)', 'Auto replies (%)', 'Qualified (%)'],\n",
    "                    var_name='Category', value_name='Percentage')\n",
    "\n",
    "# Create a bar chart\n",
    "fig = px.bar(result_melted, x='Batch No', y='Percentage', color='Category',\n",
    "             title='Percentage Breakdown of Bounced, Auto-replies, and Qualified Emails Relative to Number of Leads',\n",
    "             labels={'Percentage': 'Percentage', 'Batch No': 'Batch No', 'Category': 'Category'},\n",
    "             barmode='stack')\n",
    "\n",
    "# Show the plot\n",
    "fig.show()\n"
   ]
  },
  {
   "cell_type": "code",
   "execution_count": 254,
   "metadata": {},
   "outputs": [
    {
     "data": {
      "text/plain": [
       "Index(['Area', 'Name', 'Business Address', 'Segment', 'Business Type',\n",
       "       'Website', 'Phone No', 'Facebook', 'Instragram', 'Email', 'Batch No',\n",
       "       'Email used', 'Reply status', 'Acquired date', 'Current Step',\n",
       "       'Sent Date-step 01', 'Sent Time-step-01', 'Sent Date-step 02',\n",
       "       'Sent Time-step-02', 'Sent Date-step 03', 'Sent Time-step-03',\n",
       "       'Sent Date-step 04', 'Sent Time-step-04', 'Sent Date-step-03'],\n",
       "      dtype='object')"
      ]
     },
     "execution_count": 254,
     "metadata": {},
     "output_type": "execute_result"
    }
   ],
   "source": [
    "df.columns"
   ]
  },
  {
   "cell_type": "code",
   "execution_count": 255,
   "metadata": {},
   "outputs": [
    {
     "data": {
      "text/html": [
       "<div>\n",
       "<style scoped>\n",
       "    .dataframe tbody tr th:only-of-type {\n",
       "        vertical-align: middle;\n",
       "    }\n",
       "\n",
       "    .dataframe tbody tr th {\n",
       "        vertical-align: top;\n",
       "    }\n",
       "\n",
       "    .dataframe thead th {\n",
       "        text-align: right;\n",
       "    }\n",
       "</style>\n",
       "<table border=\"1\" class=\"dataframe\">\n",
       "  <thead>\n",
       "    <tr style=\"text-align: right;\">\n",
       "      <th></th>\n",
       "      <th>Emails Sent</th>\n",
       "      <th>qualified</th>\n",
       "      <th>qualify rate(%)</th>\n",
       "    </tr>\n",
       "    <tr>\n",
       "      <th>Step</th>\n",
       "      <th></th>\n",
       "      <th></th>\n",
       "      <th></th>\n",
       "    </tr>\n",
       "  </thead>\n",
       "  <tbody>\n",
       "    <tr>\n",
       "      <th>1.0</th>\n",
       "      <td>2631</td>\n",
       "      <td>147</td>\n",
       "      <td>5.587229</td>\n",
       "    </tr>\n",
       "    <tr>\n",
       "      <th>2.0</th>\n",
       "      <td>2387</td>\n",
       "      <td>178</td>\n",
       "      <td>7.457059</td>\n",
       "    </tr>\n",
       "    <tr>\n",
       "      <th>3.0</th>\n",
       "      <td>2176</td>\n",
       "      <td>64</td>\n",
       "      <td>2.941176</td>\n",
       "    </tr>\n",
       "    <tr>\n",
       "      <th>4.0</th>\n",
       "      <td>2095</td>\n",
       "      <td>17</td>\n",
       "      <td>0.811456</td>\n",
       "    </tr>\n",
       "  </tbody>\n",
       "</table>\n",
       "</div>"
      ],
      "text/plain": [
       "      Emails Sent  qualified  qualify rate(%)\n",
       "Step                                         \n",
       "1.0          2631        147         5.587229\n",
       "2.0          2387        178         7.457059\n",
       "3.0          2176         64         2.941176\n",
       "4.0          2095         17         0.811456"
      ]
     },
     "execution_count": 255,
     "metadata": {},
     "output_type": "execute_result"
    }
   ],
   "source": [
    "step=df[(df[\"Reply status\"] == \"Yes\") | (df[\"Reply status\"] == \"Filled form\")]\n",
    "qualified = step.groupby(\"Current Step\").size().reset_index(name=\"qualified\")\n",
    "sent_df = {\n",
    "        \"Current Step\":[1.0,2.0,3.0,4.0],\n",
    "        \"count\":[df[\"Sent Date-step 01\"].count(),\n",
    "                    df[\"Sent Date-step 02\"].count(),\n",
    "                    df[\"Sent Date-step 03\"].count(),\n",
    "                    df[\"Sent Date-step 04\"].count()]\n",
    "        }\n",
    "\n",
    "sent = pd.DataFrame(sent_df)\n",
    "result= pd.merge(qualified,sent,on=\"Current Step\",how=\"left\")\n",
    "result.rename(columns={\"Current Step\":\"Step\",\"count\":\"Emails Sent\"},inplace=True)\n",
    "result['qualify rate(%)'] = (result['qualified'] / result['Emails Sent']) * 100\n",
    "new_order = ['Step', 'Emails Sent', 'qualified', 'qualify rate(%)']\n",
    "result = result[new_order]\n",
    "result.set_index(\"Step\")"
   ]
  },
  {
   "cell_type": "code",
   "execution_count": 256,
   "metadata": {},
   "outputs": [
    {
     "data": {
      "text/plain": [
       "2387"
      ]
     },
     "execution_count": 256,
     "metadata": {},
     "output_type": "execute_result"
    }
   ],
   "source": [
    "df[\"Sent Date-step 02\"].count()"
   ]
  },
  {
   "cell_type": "code",
   "execution_count": 257,
   "metadata": {},
   "outputs": [
    {
     "data": {
      "text/html": [
       "<div>\n",
       "<style scoped>\n",
       "    .dataframe tbody tr th:only-of-type {\n",
       "        vertical-align: middle;\n",
       "    }\n",
       "\n",
       "    .dataframe tbody tr th {\n",
       "        vertical-align: top;\n",
       "    }\n",
       "\n",
       "    .dataframe thead th {\n",
       "        text-align: right;\n",
       "    }\n",
       "</style>\n",
       "<table border=\"1\" class=\"dataframe\">\n",
       "  <thead>\n",
       "    <tr style=\"text-align: right;\">\n",
       "      <th></th>\n",
       "      <th>Area</th>\n",
       "      <th>Name</th>\n",
       "      <th>Business Address</th>\n",
       "      <th>Segment</th>\n",
       "      <th>Business Type</th>\n",
       "      <th>Website</th>\n",
       "      <th>Phone No</th>\n",
       "      <th>Facebook</th>\n",
       "      <th>Instragram</th>\n",
       "      <th>Email</th>\n",
       "      <th>...</th>\n",
       "      <th>Acquired date</th>\n",
       "      <th>Current Step</th>\n",
       "      <th>Sent Date-step 01</th>\n",
       "      <th>Sent Time-step-01</th>\n",
       "      <th>Sent Time-step-02</th>\n",
       "      <th>Sent Date-step 03</th>\n",
       "      <th>Sent Time-step-03</th>\n",
       "      <th>Sent Date-step 04</th>\n",
       "      <th>Sent Time-step-04</th>\n",
       "      <th>Sent Date-step-03</th>\n",
       "    </tr>\n",
       "    <tr>\n",
       "      <th>Sent Date-step 02</th>\n",
       "      <th></th>\n",
       "      <th></th>\n",
       "      <th></th>\n",
       "      <th></th>\n",
       "      <th></th>\n",
       "      <th></th>\n",
       "      <th></th>\n",
       "      <th></th>\n",
       "      <th></th>\n",
       "      <th></th>\n",
       "      <th></th>\n",
       "      <th></th>\n",
       "      <th></th>\n",
       "      <th></th>\n",
       "      <th></th>\n",
       "      <th></th>\n",
       "      <th></th>\n",
       "      <th></th>\n",
       "      <th></th>\n",
       "      <th></th>\n",
       "      <th></th>\n",
       "    </tr>\n",
       "  </thead>\n",
       "  <tbody>\n",
       "    <tr>\n",
       "      <th>2024-05-30</th>\n",
       "      <td>1195</td>\n",
       "      <td>1195</td>\n",
       "      <td>1195</td>\n",
       "      <td>1029</td>\n",
       "      <td>113</td>\n",
       "      <td>1195</td>\n",
       "      <td>1195</td>\n",
       "      <td>972</td>\n",
       "      <td>571</td>\n",
       "      <td>1195</td>\n",
       "      <td>...</td>\n",
       "      <td>137</td>\n",
       "      <td>1195</td>\n",
       "      <td>1195</td>\n",
       "      <td>1195</td>\n",
       "      <td>1195</td>\n",
       "      <td>1083</td>\n",
       "      <td>1083</td>\n",
       "      <td>1043</td>\n",
       "      <td>1043</td>\n",
       "      <td>0</td>\n",
       "    </tr>\n",
       "    <tr>\n",
       "      <th>2024-05-31</th>\n",
       "      <td>1192</td>\n",
       "      <td>1192</td>\n",
       "      <td>1192</td>\n",
       "      <td>706</td>\n",
       "      <td>83</td>\n",
       "      <td>1192</td>\n",
       "      <td>1192</td>\n",
       "      <td>916</td>\n",
       "      <td>493</td>\n",
       "      <td>1192</td>\n",
       "      <td>...</td>\n",
       "      <td>121</td>\n",
       "      <td>1192</td>\n",
       "      <td>1192</td>\n",
       "      <td>1192</td>\n",
       "      <td>1192</td>\n",
       "      <td>1093</td>\n",
       "      <td>1093</td>\n",
       "      <td>1052</td>\n",
       "      <td>1052</td>\n",
       "      <td>0</td>\n",
       "    </tr>\n",
       "  </tbody>\n",
       "</table>\n",
       "<p>2 rows × 23 columns</p>\n",
       "</div>"
      ],
      "text/plain": [
       "                   Area  Name  Business Address  Segment  Business Type  \\\n",
       "Sent Date-step 02                                                         \n",
       "2024-05-30         1195  1195              1195     1029            113   \n",
       "2024-05-31         1192  1192              1192      706             83   \n",
       "\n",
       "                   Website  Phone No  Facebook  Instragram  Email  ...  \\\n",
       "Sent Date-step 02                                                  ...   \n",
       "2024-05-30            1195      1195       972         571   1195  ...   \n",
       "2024-05-31            1192      1192       916         493   1192  ...   \n",
       "\n",
       "                   Acquired date  Current Step  Sent Date-step 01  \\\n",
       "Sent Date-step 02                                                   \n",
       "2024-05-30                   137          1195               1195   \n",
       "2024-05-31                   121          1192               1192   \n",
       "\n",
       "                   Sent Time-step-01  Sent Time-step-02  Sent Date-step 03  \\\n",
       "Sent Date-step 02                                                            \n",
       "2024-05-30                      1195               1195               1083   \n",
       "2024-05-31                      1192               1192               1093   \n",
       "\n",
       "                   Sent Time-step-03  Sent Date-step 04  Sent Time-step-04  \\\n",
       "Sent Date-step 02                                                            \n",
       "2024-05-30                      1083               1043               1043   \n",
       "2024-05-31                      1093               1052               1052   \n",
       "\n",
       "                   Sent Date-step-03  \n",
       "Sent Date-step 02                     \n",
       "2024-05-30                         0  \n",
       "2024-05-31                         0  \n",
       "\n",
       "[2 rows x 23 columns]"
      ]
     },
     "execution_count": 257,
     "metadata": {},
     "output_type": "execute_result"
    }
   ],
   "source": [
    "df.groupby(\"Sent Date-step 02\").count()"
   ]
  },
  {
   "cell_type": "code",
   "execution_count": 258,
   "metadata": {},
   "outputs": [
    {
     "name": "stdout",
     "output_type": "stream",
     "text": [
      "Step-wise email counts:\n",
      "     Step  Emails Sent\n",
      "0  Step 1         2631\n",
      "1  Step 2         2387\n",
      "2  Step 3         2176\n",
      "3  Step 4         2095\n",
      "\n",
      "Qualified email counts:\n",
      "     Step  Qualified Emails\n",
      "0  Step 1               406\n",
      "1  Step 2               259\n",
      "2  Step 3                81\n",
      "3  Step 4                17\n"
     ]
    }
   ],
   "source": [
    "def analyze_steps(df):\n",
    "    # Initialize lists to store counts\n",
    "    step_counts = []\n",
    "    qualified_counts = []\n",
    "\n",
    "    # Iterate over steps\n",
    "    for step in range(1, 5):\n",
    "        step_column = f\"Sent Date-step 0{step}\"\n",
    "        qualified_column = \"Reply status\"\n",
    "\n",
    "        # Count emails sent in current step\n",
    "        step_count = df[step_column].notna().sum()\n",
    "        step_counts.append(step_count)\n",
    "\n",
    "        # Count qualified emails in current step\n",
    "        qualified_count = df[(df[step_column].notna()) & (df[qualified_column].isin([\"Yes\", \"Filled form\"]))].shape[0]\n",
    "        qualified_counts.append(qualified_count)\n",
    "\n",
    "    # Create DataFrames\n",
    "    step_df = pd.DataFrame({\"Step\": [f\"Step {i}\" for i in range(1, 5)], \"Emails Sent\": step_counts})\n",
    "    qualified_df = pd.DataFrame({\"Step\": [f\"Step {i}\" for i in range(1, 5)], \"Qualified Emails\": qualified_counts})\n",
    "\n",
    "    return step_df, qualified_df\n",
    "\n",
    "# Call the function to get DataFrames\n",
    "step_df, qualified_df = analyze_steps(df)\n",
    "\n",
    "# Display the DataFrames\n",
    "print(\"Step-wise email counts:\")\n",
    "print(step_df)\n",
    "print(\"\\nQualified email counts:\")\n",
    "print(qualified_df)\n"
   ]
  },
  {
   "cell_type": "code",
   "execution_count": 259,
   "metadata": {},
   "outputs": [],
   "source": [
    "quali = df[(df[\"Reply status\"] == \"Yes\") | (df[\"Reply status\"] == \"Filled form\")]\n"
   ]
  },
  {
   "cell_type": "code",
   "execution_count": 268,
   "metadata": {},
   "outputs": [
    {
     "name": "stderr",
     "output_type": "stream",
     "text": [
      "C:\\Users\\admin\\AppData\\Local\\Temp\\ipykernel_9544\\2797143232.py:35: SettingWithCopyWarning:\n",
      "\n",
      "\n",
      "A value is trying to be set on a copy of a slice from a DataFrame.\n",
      "Try using .loc[row_indexer,col_indexer] = value instead\n",
      "\n",
      "See the caveats in the documentation: https://pandas.pydata.org/pandas-docs/stable/user_guide/indexing.html#returning-a-view-versus-a-copy\n",
      "\n",
      "C:\\Users\\admin\\AppData\\Local\\Temp\\ipykernel_9544\\2797143232.py:36: SettingWithCopyWarning:\n",
      "\n",
      "\n",
      "A value is trying to be set on a copy of a slice from a DataFrame.\n",
      "Try using .loc[row_indexer,col_indexer] = value instead\n",
      "\n",
      "See the caveats in the documentation: https://pandas.pydata.org/pandas-docs/stable/user_guide/indexing.html#returning-a-view-versus-a-copy\n",
      "\n"
     ]
    },
    {
     "data": {
      "application/vnd.plotly.v1+json": {
       "config": {
        "plotlyServerURL": "https://plot.ly"
       },
       "data": [
        {
         "hovertemplate": "Days taken to sign up=%{x}<br>count=%{y}<extra></extra>",
         "legendgroup": "",
         "line": {
          "color": "#000001",
          "dash": "solid"
         },
         "marker": {
          "symbol": "circle"
         },
         "mode": "lines",
         "name": "",
         "orientation": "v",
         "showlegend": false,
         "type": "scatter",
         "x": [
          0,
          1,
          2,
          3,
          4,
          5,
          6,
          7
         ],
         "xaxis": "x",
         "y": [
          289,
          73,
          13,
          12,
          9,
          5,
          3,
          1
         ],
         "yaxis": "y"
        }
       ],
       "layout": {
        "legend": {
         "tracegroupgap": 0
        },
        "template": {
         "data": {
          "candlestick": [
           {
            "decreasing": {
             "line": {
              "color": "#000033"
             }
            },
            "increasing": {
             "line": {
              "color": "#000032"
             }
            },
            "type": "candlestick"
           }
          ],
          "contour": [
           {
            "colorscale": [
             [
              0,
              "#000011"
             ],
             [
              0.1111111111111111,
              "#000012"
             ],
             [
              0.2222222222222222,
              "#000013"
             ],
             [
              0.3333333333333333,
              "#000014"
             ],
             [
              0.4444444444444444,
              "#000015"
             ],
             [
              0.5555555555555556,
              "#000016"
             ],
             [
              0.6666666666666666,
              "#000017"
             ],
             [
              0.7777777777777778,
              "#000018"
             ],
             [
              0.8888888888888888,
              "#000019"
             ],
             [
              1,
              "#000020"
             ]
            ],
            "type": "contour"
           }
          ],
          "contourcarpet": [
           {
            "colorscale": [
             [
              0,
              "#000011"
             ],
             [
              0.1111111111111111,
              "#000012"
             ],
             [
              0.2222222222222222,
              "#000013"
             ],
             [
              0.3333333333333333,
              "#000014"
             ],
             [
              0.4444444444444444,
              "#000015"
             ],
             [
              0.5555555555555556,
              "#000016"
             ],
             [
              0.6666666666666666,
              "#000017"
             ],
             [
              0.7777777777777778,
              "#000018"
             ],
             [
              0.8888888888888888,
              "#000019"
             ],
             [
              1,
              "#000020"
             ]
            ],
            "type": "contourcarpet"
           }
          ],
          "heatmap": [
           {
            "colorscale": [
             [
              0,
              "#000011"
             ],
             [
              0.1111111111111111,
              "#000012"
             ],
             [
              0.2222222222222222,
              "#000013"
             ],
             [
              0.3333333333333333,
              "#000014"
             ],
             [
              0.4444444444444444,
              "#000015"
             ],
             [
              0.5555555555555556,
              "#000016"
             ],
             [
              0.6666666666666666,
              "#000017"
             ],
             [
              0.7777777777777778,
              "#000018"
             ],
             [
              0.8888888888888888,
              "#000019"
             ],
             [
              1,
              "#000020"
             ]
            ],
            "type": "heatmap"
           }
          ],
          "histogram2d": [
           {
            "colorscale": [
             [
              0,
              "#000011"
             ],
             [
              0.1111111111111111,
              "#000012"
             ],
             [
              0.2222222222222222,
              "#000013"
             ],
             [
              0.3333333333333333,
              "#000014"
             ],
             [
              0.4444444444444444,
              "#000015"
             ],
             [
              0.5555555555555556,
              "#000016"
             ],
             [
              0.6666666666666666,
              "#000017"
             ],
             [
              0.7777777777777778,
              "#000018"
             ],
             [
              0.8888888888888888,
              "#000019"
             ],
             [
              1,
              "#000020"
             ]
            ],
            "type": "histogram2d"
           }
          ],
          "icicle": [
           {
            "textfont": {
             "color": "white"
            },
            "type": "icicle"
           }
          ],
          "sankey": [
           {
            "textfont": {
             "color": "#000036"
            },
            "type": "sankey"
           }
          ],
          "scatter": [
           {
            "marker": {
             "line": {
              "width": 0
             }
            },
            "type": "scatter"
           }
          ],
          "table": [
           {
            "cells": {
             "fill": {
              "color": "#000038"
             },
             "font": {
              "color": "#000037"
             },
             "line": {
              "color": "#000039"
             }
            },
            "header": {
             "fill": {
              "color": "#000040"
             },
             "font": {
              "color": "#000036"
             },
             "line": {
              "color": "#000039"
             }
            },
            "type": "table"
           }
          ],
          "waterfall": [
           {
            "connector": {
             "line": {
              "color": "#000036",
              "width": 2
             }
            },
            "decreasing": {
             "marker": {
              "color": "#000033"
             }
            },
            "increasing": {
             "marker": {
              "color": "#000032"
             }
            },
            "totals": {
             "marker": {
              "color": "#000034"
             }
            },
            "type": "waterfall"
           }
          ]
         },
         "layout": {
          "coloraxis": {
           "colorscale": [
            [
             0,
             "#000011"
            ],
            [
             0.1111111111111111,
             "#000012"
            ],
            [
             0.2222222222222222,
             "#000013"
            ],
            [
             0.3333333333333333,
             "#000014"
            ],
            [
             0.4444444444444444,
             "#000015"
            ],
            [
             0.5555555555555556,
             "#000016"
            ],
            [
             0.6666666666666666,
             "#000017"
            ],
            [
             0.7777777777777778,
             "#000018"
            ],
            [
             0.8888888888888888,
             "#000019"
            ],
            [
             1,
             "#000020"
            ]
           ]
          },
          "colorscale": {
           "diverging": [
            [
             0,
             "#000021"
            ],
            [
             0.1,
             "#000022"
            ],
            [
             0.2,
             "#000023"
            ],
            [
             0.3,
             "#000024"
            ],
            [
             0.4,
             "#000025"
            ],
            [
             0.5,
             "#000026"
            ],
            [
             0.6,
             "#000027"
            ],
            [
             0.7,
             "#000028"
            ],
            [
             0.8,
             "#000029"
            ],
            [
             0.9,
             "#000030"
            ],
            [
             1,
             "#000031"
            ]
           ],
           "sequential": [
            [
             0,
             "#000011"
            ],
            [
             0.1111111111111111,
             "#000012"
            ],
            [
             0.2222222222222222,
             "#000013"
            ],
            [
             0.3333333333333333,
             "#000014"
            ],
            [
             0.4444444444444444,
             "#000015"
            ],
            [
             0.5555555555555556,
             "#000016"
            ],
            [
             0.6666666666666666,
             "#000017"
            ],
            [
             0.7777777777777778,
             "#000018"
            ],
            [
             0.8888888888888888,
             "#000019"
            ],
            [
             1,
             "#000020"
            ]
           ],
           "sequentialminus": [
            [
             0,
             "#000011"
            ],
            [
             0.1111111111111111,
             "#000012"
            ],
            [
             0.2222222222222222,
             "#000013"
            ],
            [
             0.3333333333333333,
             "#000014"
            ],
            [
             0.4444444444444444,
             "#000015"
            ],
            [
             0.5555555555555556,
             "#000016"
            ],
            [
             0.6666666666666666,
             "#000017"
            ],
            [
             0.7777777777777778,
             "#000018"
            ],
            [
             0.8888888888888888,
             "#000019"
            ],
            [
             1,
             "#000020"
            ]
           ]
          },
          "colorway": [
           "#000001",
           "#000002",
           "#000003",
           "#000004",
           "#000005",
           "#000006",
           "#000007",
           "#000008",
           "#000009",
           "#000010"
          ]
         }
        },
        "title": {
         "text": "Days Taken to Sign Up"
        },
        "xaxis": {
         "anchor": "y",
         "domain": [
          0,
          1
         ],
         "showgrid": true,
         "title": {
          "text": "Days"
         }
        },
        "yaxis": {
         "anchor": "x",
         "domain": [
          0,
          1
         ],
         "showgrid": true,
         "title": {
          "text": "Count"
         }
        }
       }
      }
     },
     "metadata": {},
     "output_type": "display_data"
    }
   ],
   "source": [
    "quali = df[(df[\"Reply status\"] == \"Yes\") | (df[\"Reply status\"] == \"Filled form\")]\n",
    "def get_sent_date(row):\n",
    "    current_step = row['Current Step']\n",
    "    if pd.isna(current_step):\n",
    "        return np.nan\n",
    "    else:\n",
    "        current_step = int(current_step)\n",
    "        if current_step == 1:\n",
    "            return row['Sent Date-step 01']\n",
    "        elif current_step == 2:\n",
    "            return row['Sent Date-step 02']\n",
    "        elif current_step == 3:\n",
    "            return row['Sent Date-step 03']\n",
    "        elif current_step == 4:\n",
    "            return row['Sent Date-step 04']\n",
    "        else:\n",
    "            return np.nan\n",
    "def get_sent_time(row):\n",
    "    current_step = row['Current Step']\n",
    "    if pd.isna(current_step):\n",
    "        return np.nan\n",
    "    else:\n",
    "        current_step = int(current_step)\n",
    "        if current_step == 1:\n",
    "            return row['Sent Time-step-01']\n",
    "        elif current_step == 2:\n",
    "            return row['Sent Time-step-02']\n",
    "        elif current_step == 3:\n",
    "            return row['Sent Time-step-03']\n",
    "        elif current_step == 4:\n",
    "            return row['Sent Time-step-04']\n",
    "        else:\n",
    "            return np.nan\n",
    "    \n",
    "quali['Sent Date'] = quali.apply(get_sent_date, axis=1)\n",
    "quali['Sent Time'] = quali.apply(get_sent_time, axis=1)\n",
    "quali =  quali[~quali[\"Batch No\"].isin([\"Not from Cadence\"])]\n",
    "quali = quali[[\"Area\",'Name','Batch No','Current Step','Reply status','Acquired date','Sent Date', 'Sent Time']]\n",
    "quali[\"Days taken to sign up\"] = (quali[\"Acquired date\"] - quali[\"Sent Date\"]).dt.days\n",
    "quali[\"sent day\"] = quali[\"Sent Date\"].dt.day_name()\n",
    "quali[\"acquired day\"] = quali[\"Acquired date\"].dt.day_name()\n",
    "days_taken = quali[\"Days taken to sign up\"].value_counts().reset_index()\n",
    "\n",
    "fig = px.line(days_taken, x='Days taken to sign up', y='count', title='Days Taken to Sign Up')\n",
    "fig.update_layout(xaxis_title='Days', yaxis_title='Count', xaxis=dict(showgrid=True), yaxis=dict(showgrid=True))\n",
    "fig.show()"
   ]
  },
  {
   "cell_type": "code",
   "execution_count": 274,
   "metadata": {},
   "outputs": [],
   "source": [
    "quali[\"sent day\"] = quali[\"Sent Date\"].dt.day_name()"
   ]
  },
  {
   "cell_type": "code",
   "execution_count": 276,
   "metadata": {},
   "outputs": [
    {
     "data": {
      "text/plain": [
       "sent day\n",
       "Thursday     139\n",
       "Wednesday    103\n",
       "Friday        89\n",
       "Tuesday       75\n",
       "Name: count, dtype: int64"
      ]
     },
     "execution_count": 276,
     "metadata": {},
     "output_type": "execute_result"
    }
   ],
   "source": [
    "quali[\"sent day\"].value_counts()"
   ]
  },
  {
   "cell_type": "code",
   "execution_count": 277,
   "metadata": {},
   "outputs": [],
   "source": [
    "quali[\"acquired day\"] = quali[\"Acquired date\"].dt.day_name()"
   ]
  },
  {
   "cell_type": "code",
   "execution_count": 278,
   "metadata": {},
   "outputs": [
    {
     "data": {
      "text/plain": [
       "acquired day\n",
       "Thursday     124\n",
       "Wednesday     99\n",
       "Friday        87\n",
       "Tuesday       56\n",
       "Monday        15\n",
       "Saturday      14\n",
       "Sunday        10\n",
       "Name: count, dtype: int64"
      ]
     },
     "execution_count": 278,
     "metadata": {},
     "output_type": "execute_result"
    }
   ],
   "source": [
    "quali[\"acquired day\"].value_counts()"
   ]
  },
  {
   "cell_type": "code",
   "execution_count": null,
   "metadata": {},
   "outputs": [],
   "source": []
  }
 ],
 "metadata": {
  "kernelspec": {
   "display_name": "Python 3",
   "language": "python",
   "name": "python3"
  },
  "language_info": {
   "codemirror_mode": {
    "name": "ipython",
    "version": 3
   },
   "file_extension": ".py",
   "mimetype": "text/x-python",
   "name": "python",
   "nbconvert_exporter": "python",
   "pygments_lexer": "ipython3",
   "version": "3.12.1"
  }
 },
 "nbformat": 4,
 "nbformat_minor": 2
}
